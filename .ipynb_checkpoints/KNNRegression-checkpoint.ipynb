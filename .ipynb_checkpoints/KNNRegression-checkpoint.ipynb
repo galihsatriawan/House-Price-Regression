{
 "cells": [
  {
   "cell_type": "code",
   "execution_count": 1,
   "metadata": {},
   "outputs": [],
   "source": [
    "#import Libraries\n",
    "import pandas as pd\n",
    "import matplotlib.pyplot as plt\n",
    "import numpy as np\n",
    "import pandas as pd"
   ]
  },
  {
   "cell_type": "code",
   "execution_count": 2,
   "metadata": {},
   "outputs": [
    {
     "name": "stdout",
     "output_type": "stream",
     "text": [
      "        Id  MSSubClass MSZoning  LotFrontage  LotArea Street Alley LotShape  \\\n",
      "0        1          60       RL         65.0     8450   Pave   NaN      Reg   \n",
      "1        2          20       RL         80.0     9600   Pave   NaN      Reg   \n",
      "2        3          60       RL         68.0    11250   Pave   NaN      IR1   \n",
      "3        4          70       RL         60.0     9550   Pave   NaN      IR1   \n",
      "4        5          60       RL         84.0    14260   Pave   NaN      IR1   \n",
      "5        6          50       RL         85.0    14115   Pave   NaN      IR1   \n",
      "6        7          20       RL         75.0    10084   Pave   NaN      Reg   \n",
      "7        8          60       RL          NaN    10382   Pave   NaN      IR1   \n",
      "8        9          50       RM         51.0     6120   Pave   NaN      Reg   \n",
      "9       10         190       RL         50.0     7420   Pave   NaN      Reg   \n",
      "10      11          20       RL         70.0    11200   Pave   NaN      Reg   \n",
      "11      12          60       RL         85.0    11924   Pave   NaN      IR1   \n",
      "12      13          20       RL          NaN    12968   Pave   NaN      IR2   \n",
      "13      14          20       RL         91.0    10652   Pave   NaN      IR1   \n",
      "14      15          20       RL          NaN    10920   Pave   NaN      IR1   \n",
      "15      16          45       RM         51.0     6120   Pave   NaN      Reg   \n",
      "16      17          20       RL          NaN    11241   Pave   NaN      IR1   \n",
      "17      18          90       RL         72.0    10791   Pave   NaN      Reg   \n",
      "18      19          20       RL         66.0    13695   Pave   NaN      Reg   \n",
      "19      20          20       RL         70.0     7560   Pave   NaN      Reg   \n",
      "20      21          60       RL        101.0    14215   Pave   NaN      IR1   \n",
      "21      22          45       RM         57.0     7449   Pave  Grvl      Reg   \n",
      "22      23          20       RL         75.0     9742   Pave   NaN      Reg   \n",
      "23      24         120       RM         44.0     4224   Pave   NaN      Reg   \n",
      "24      25          20       RL          NaN     8246   Pave   NaN      IR1   \n",
      "25      26          20       RL        110.0    14230   Pave   NaN      Reg   \n",
      "26      27          20       RL         60.0     7200   Pave   NaN      Reg   \n",
      "27      28          20       RL         98.0    11478   Pave   NaN      Reg   \n",
      "28      29          20       RL         47.0    16321   Pave   NaN      IR1   \n",
      "29      30          30       RM         60.0     6324   Pave   NaN      IR1   \n",
      "...    ...         ...      ...          ...      ...    ...   ...      ...   \n",
      "1430  1431          60       RL         60.0    21930   Pave   NaN      IR3   \n",
      "1431  1432         120       RL          NaN     4928   Pave   NaN      IR1   \n",
      "1432  1433          30       RL         60.0    10800   Pave  Grvl      Reg   \n",
      "1433  1434          60       RL         93.0    10261   Pave   NaN      IR1   \n",
      "1434  1435          20       RL         80.0    17400   Pave   NaN      Reg   \n",
      "1435  1436          20       RL         80.0     8400   Pave   NaN      Reg   \n",
      "1436  1437          20       RL         60.0     9000   Pave   NaN      Reg   \n",
      "1437  1438          20       RL         96.0    12444   Pave   NaN      Reg   \n",
      "1438  1439          20       RM         90.0     7407   Pave   NaN      Reg   \n",
      "1439  1440          60       RL         80.0    11584   Pave   NaN      Reg   \n",
      "1440  1441          70       RL         79.0    11526   Pave   NaN      IR1   \n",
      "1441  1442         120       RM          NaN     4426   Pave   NaN      Reg   \n",
      "1442  1443          60       FV         85.0    11003   Pave   NaN      Reg   \n",
      "1443  1444          30       RL          NaN     8854   Pave   NaN      Reg   \n",
      "1444  1445          20       RL         63.0     8500   Pave   NaN      Reg   \n",
      "1445  1446          85       RL         70.0     8400   Pave   NaN      Reg   \n",
      "1446  1447          20       RL          NaN    26142   Pave   NaN      IR1   \n",
      "1447  1448          60       RL         80.0    10000   Pave   NaN      Reg   \n",
      "1448  1449          50       RL         70.0    11767   Pave   NaN      Reg   \n",
      "1449  1450         180       RM         21.0     1533   Pave   NaN      Reg   \n",
      "1450  1451          90       RL         60.0     9000   Pave   NaN      Reg   \n",
      "1451  1452          20       RL         78.0     9262   Pave   NaN      Reg   \n",
      "1452  1453         180       RM         35.0     3675   Pave   NaN      Reg   \n",
      "1453  1454          20       RL         90.0    17217   Pave   NaN      Reg   \n",
      "1454  1455          20       FV         62.0     7500   Pave  Pave      Reg   \n",
      "1455  1456          60       RL         62.0     7917   Pave   NaN      Reg   \n",
      "1456  1457          20       RL         85.0    13175   Pave   NaN      Reg   \n",
      "1457  1458          70       RL         66.0     9042   Pave   NaN      Reg   \n",
      "1458  1459          20       RL         68.0     9717   Pave   NaN      Reg   \n",
      "1459  1460          20       RL         75.0     9937   Pave   NaN      Reg   \n",
      "\n",
      "     LandContour Utilities  ... PoolArea PoolQC  Fence MiscFeature MiscVal  \\\n",
      "0            Lvl    AllPub  ...        0    NaN    NaN         NaN       0   \n",
      "1            Lvl    AllPub  ...        0    NaN    NaN         NaN       0   \n",
      "2            Lvl    AllPub  ...        0    NaN    NaN         NaN       0   \n",
      "3            Lvl    AllPub  ...        0    NaN    NaN         NaN       0   \n",
      "4            Lvl    AllPub  ...        0    NaN    NaN         NaN       0   \n",
      "5            Lvl    AllPub  ...        0    NaN  MnPrv        Shed     700   \n",
      "6            Lvl    AllPub  ...        0    NaN    NaN         NaN       0   \n",
      "7            Lvl    AllPub  ...        0    NaN    NaN        Shed     350   \n",
      "8            Lvl    AllPub  ...        0    NaN    NaN         NaN       0   \n",
      "9            Lvl    AllPub  ...        0    NaN    NaN         NaN       0   \n",
      "10           Lvl    AllPub  ...        0    NaN    NaN         NaN       0   \n",
      "11           Lvl    AllPub  ...        0    NaN    NaN         NaN       0   \n",
      "12           Lvl    AllPub  ...        0    NaN    NaN         NaN       0   \n",
      "13           Lvl    AllPub  ...        0    NaN    NaN         NaN       0   \n",
      "14           Lvl    AllPub  ...        0    NaN   GdWo         NaN       0   \n",
      "15           Lvl    AllPub  ...        0    NaN  GdPrv         NaN       0   \n",
      "16           Lvl    AllPub  ...        0    NaN    NaN        Shed     700   \n",
      "17           Lvl    AllPub  ...        0    NaN    NaN        Shed     500   \n",
      "18           Lvl    AllPub  ...        0    NaN    NaN         NaN       0   \n",
      "19           Lvl    AllPub  ...        0    NaN  MnPrv         NaN       0   \n",
      "20           Lvl    AllPub  ...        0    NaN    NaN         NaN       0   \n",
      "21           Bnk    AllPub  ...        0    NaN  GdPrv         NaN       0   \n",
      "22           Lvl    AllPub  ...        0    NaN    NaN         NaN       0   \n",
      "23           Lvl    AllPub  ...        0    NaN    NaN         NaN       0   \n",
      "24           Lvl    AllPub  ...        0    NaN  MnPrv         NaN       0   \n",
      "25           Lvl    AllPub  ...        0    NaN    NaN         NaN       0   \n",
      "26           Lvl    AllPub  ...        0    NaN    NaN         NaN       0   \n",
      "27           Lvl    AllPub  ...        0    NaN    NaN         NaN       0   \n",
      "28           Lvl    AllPub  ...        0    NaN    NaN         NaN       0   \n",
      "29           Lvl    AllPub  ...        0    NaN    NaN         NaN       0   \n",
      "...          ...       ...  ...      ...    ...    ...         ...     ...   \n",
      "1430         Lvl    AllPub  ...        0    NaN    NaN         NaN       0   \n",
      "1431         Lvl    AllPub  ...        0    NaN    NaN         NaN       0   \n",
      "1432         Lvl    AllPub  ...        0    NaN    NaN         NaN       0   \n",
      "1433         Lvl    AllPub  ...        0    NaN    NaN         NaN       0   \n",
      "1434         Low    AllPub  ...        0    NaN    NaN         NaN       0   \n",
      "1435         Lvl    AllPub  ...        0    NaN  GdPrv         NaN       0   \n",
      "1436         Lvl    AllPub  ...        0    NaN   GdWo         NaN       0   \n",
      "1437         Lvl    AllPub  ...        0    NaN    NaN         NaN       0   \n",
      "1438         Lvl    AllPub  ...        0    NaN  MnPrv         NaN       0   \n",
      "1439         Lvl    AllPub  ...        0    NaN    NaN         NaN       0   \n",
      "1440         Bnk    AllPub  ...        0    NaN    NaN         NaN       0   \n",
      "1441         Lvl    AllPub  ...        0    NaN    NaN         NaN       0   \n",
      "1442         Lvl    AllPub  ...        0    NaN    NaN         NaN       0   \n",
      "1443         Lvl    AllPub  ...        0    NaN    NaN         NaN       0   \n",
      "1444         Lvl    AllPub  ...        0    NaN    NaN         NaN       0   \n",
      "1445         Lvl    AllPub  ...        0    NaN    NaN         NaN       0   \n",
      "1446         Lvl    AllPub  ...        0    NaN    NaN         NaN       0   \n",
      "1447         Lvl    AllPub  ...        0    NaN    NaN         NaN       0   \n",
      "1448         Lvl    AllPub  ...        0    NaN   GdWo         NaN       0   \n",
      "1449         Lvl    AllPub  ...        0    NaN    NaN         NaN       0   \n",
      "1450         Lvl    AllPub  ...        0    NaN    NaN         NaN       0   \n",
      "1451         Lvl    AllPub  ...        0    NaN    NaN         NaN       0   \n",
      "1452         Lvl    AllPub  ...        0    NaN    NaN         NaN       0   \n",
      "1453         Lvl    AllPub  ...        0    NaN    NaN         NaN       0   \n",
      "1454         Lvl    AllPub  ...        0    NaN    NaN         NaN       0   \n",
      "1455         Lvl    AllPub  ...        0    NaN    NaN         NaN       0   \n",
      "1456         Lvl    AllPub  ...        0    NaN  MnPrv         NaN       0   \n",
      "1457         Lvl    AllPub  ...        0    NaN  GdPrv        Shed    2500   \n",
      "1458         Lvl    AllPub  ...        0    NaN    NaN         NaN       0   \n",
      "1459         Lvl    AllPub  ...        0    NaN    NaN         NaN       0   \n",
      "\n",
      "     MoSold YrSold  SaleType  SaleCondition  SalePrice  \n",
      "0         2   2008        WD         Normal     208500  \n",
      "1         5   2007        WD         Normal     181500  \n",
      "2         9   2008        WD         Normal     223500  \n",
      "3         2   2006        WD        Abnorml     140000  \n",
      "4        12   2008        WD         Normal     250000  \n",
      "5        10   2009        WD         Normal     143000  \n",
      "6         8   2007        WD         Normal     307000  \n",
      "7        11   2009        WD         Normal     200000  \n",
      "8         4   2008        WD        Abnorml     129900  \n",
      "9         1   2008        WD         Normal     118000  \n",
      "10        2   2008        WD         Normal     129500  \n",
      "11        7   2006       New        Partial     345000  \n",
      "12        9   2008        WD         Normal     144000  \n",
      "13        8   2007       New        Partial     279500  \n",
      "14        5   2008        WD         Normal     157000  \n",
      "15        7   2007        WD         Normal     132000  \n",
      "16        3   2010        WD         Normal     149000  \n",
      "17       10   2006        WD         Normal      90000  \n",
      "18        6   2008        WD         Normal     159000  \n",
      "19        5   2009       COD        Abnorml     139000  \n",
      "20       11   2006       New        Partial     325300  \n",
      "21        6   2007        WD         Normal     139400  \n",
      "22        9   2008        WD         Normal     230000  \n",
      "23        6   2007        WD         Normal     129900  \n",
      "24        5   2010        WD         Normal     154000  \n",
      "25        7   2009        WD         Normal     256300  \n",
      "26        5   2010        WD         Normal     134800  \n",
      "27        5   2010        WD         Normal     306000  \n",
      "28       12   2006        WD         Normal     207500  \n",
      "29        5   2008        WD         Normal      68500  \n",
      "...     ...    ...       ...            ...        ...  \n",
      "1430      7   2006        WD         Normal     192140  \n",
      "1431     10   2009        WD         Normal     143750  \n",
      "1432      8   2007        WD         Normal      64500  \n",
      "1433      5   2008        WD         Normal     186500  \n",
      "1434      5   2006        WD         Normal     160000  \n",
      "1435      7   2008       COD        Abnorml     174000  \n",
      "1436      5   2007        WD         Normal     120500  \n",
      "1437     11   2008       New        Partial     394617  \n",
      "1438      4   2010        WD         Normal     149700  \n",
      "1439     11   2007        WD         Normal     197000  \n",
      "1440      9   2008        WD         Normal     191000  \n",
      "1441      5   2008        WD         Normal     149300  \n",
      "1442      4   2009        WD         Normal     310000  \n",
      "1443      5   2009        WD         Normal     121000  \n",
      "1444     11   2007        WD         Normal     179600  \n",
      "1445      5   2007        WD         Normal     129000  \n",
      "1446      4   2010        WD         Normal     157900  \n",
      "1447     12   2007        WD         Normal     240000  \n",
      "1448      5   2007        WD         Normal     112000  \n",
      "1449      8   2006        WD        Abnorml      92000  \n",
      "1450      9   2009        WD         Normal     136000  \n",
      "1451      5   2009       New        Partial     287090  \n",
      "1452      5   2006        WD         Normal     145000  \n",
      "1453      7   2006        WD        Abnorml      84500  \n",
      "1454     10   2009        WD         Normal     185000  \n",
      "1455      8   2007        WD         Normal     175000  \n",
      "1456      2   2010        WD         Normal     210000  \n",
      "1457      5   2010        WD         Normal     266500  \n",
      "1458      4   2010        WD         Normal     142125  \n",
      "1459      6   2008        WD         Normal     147500  \n",
      "\n",
      "[1460 rows x 81 columns]\n"
     ]
    }
   ],
   "source": [
    "# Load Data\n",
    "df_train = pd.read_csv('/home/sh0brun/Documents/Untitled Folder/train.csv')\n",
    "print(df_train)"
   ]
  },
  {
   "cell_type": "code",
   "execution_count": 3,
   "metadata": {},
   "outputs": [
    {
     "name": "stdout",
     "output_type": "stream",
     "text": [
      "   LotArea  GarageArea  SalePrice\n",
      "0     8450         548     208500\n",
      "1     9600         460     181500\n",
      "2    11250         608     223500\n",
      "3     9550         642     140000\n",
      "4    14260         836     250000\n"
     ]
    }
   ],
   "source": [
    "#Take sample feature\n",
    "sample_df_train = df_train[['LotArea','GarageArea','SalePrice']]\n",
    "print(sample_df_train.head())"
   ]
  },
  {
   "cell_type": "code",
   "execution_count": 4,
   "metadata": {},
   "outputs": [],
   "source": [
    "#Clean Data\n",
    "sample_df_train = sample_df_train.dropna()"
   ]
  },
  {
   "cell_type": "markdown",
   "metadata": {},
   "source": []
  },
  {
   "cell_type": "code",
   "execution_count": 5,
   "metadata": {},
   "outputs": [],
   "source": [
    "sample_df_train.drop('SalePrice',axis = 1)\n",
    "y_sample = sample_df_train['SalePrice']"
   ]
  },
  {
   "cell_type": "markdown",
   "metadata": {},
   "source": [
    "# Normalization\n",
    "### Formula Transformation\n",
    "X_std = (X - X.min(axis=0)) / (X.max(axis=0) - X.min(axis=0))\n",
    "<br> X_scaled = X_std * (max - min) + min\n",
    "<br> nb: max and min given by feature_range"
   ]
  },
  {
   "cell_type": "code",
   "execution_count": 6,
   "metadata": {},
   "outputs": [],
   "source": [
    "from sklearn.preprocessing import MinMaxScaler\n",
    "scaler = MinMaxScaler(feature_range=(0,1),copy=True)\n",
    "x_scaled = scaler.fit_transform(sample_df_train)\n",
    "\n",
    "x_sample = pd.DataFrame(x_scaled)"
   ]
  },
  {
   "cell_type": "markdown",
   "metadata": {},
   "source": [
    "# Create Train and Test Set from train.csv"
   ]
  },
  {
   "cell_type": "code",
   "execution_count": 7,
   "metadata": {},
   "outputs": [
    {
     "name": "stdout",
     "output_type": "stream",
     "text": [
      "             0         1         2\n",
      "158   0.052593  0.478138  0.305513\n",
      "651   0.036383  0.208745  0.101514\n",
      "151   0.058852  0.610719  0.468688\n",
      "1138  0.039819  0.503526  0.223719\n",
      "1421  0.012821  0.310296  0.128593\n",
      "743   0.054154  0.338505  0.194556\n",
      "273   0.038795  0.238364  0.144563\n",
      "925   0.066891  0.380818  0.194556\n",
      "712   0.015756  0.332863  0.213998\n",
      "57    0.048354  0.398449  0.224413\n",
      "636   0.022529  0.000000  0.034856\n",
      "1180  0.046133  0.488717  0.298709\n",
      "56    0.006287  0.338505  0.191085\n",
      "599   0.003038  0.318759  0.161228\n",
      "915   0.003277  0.201693  0.055687\n",
      "1141  0.042086  0.341326  0.225802\n",
      "1033  0.031901  0.634697  0.270935\n",
      "329   0.023847  0.133286  0.059853\n",
      "149   0.023090  0.169252  0.111235\n",
      "1204  0.041319  0.349083  0.164699\n",
      "466   0.043600  0.370945  0.183447\n",
      "1147  0.050013  0.165021  0.193862\n",
      "285   0.013793  0.372355  0.180253\n",
      "1281  0.031545  0.341326  0.201500\n",
      "637   0.021968  0.180536  0.080683\n",
      "43    0.036925  0.217207  0.132412\n",
      "580   0.062095  0.403385  0.204138\n",
      "1285  0.021968  0.197461  0.135537\n",
      "68    0.015462  0.155148  0.062630\n",
      "1355  0.041562  0.343441  0.187613\n",
      "...        ...       ...       ...\n",
      "718   0.043198  0.693230  0.425080\n",
      "679   0.040408  0.403385  0.129982\n",
      "1456  0.055505  0.352609  0.243161\n",
      "874   0.020660  0.141044  0.043883\n",
      "300   0.067541  0.264457  0.169560\n",
      "612   0.049475  0.374471  0.314679\n",
      "691   0.094580  0.586742  1.000000\n",
      "1269  0.046947  0.222144  0.151507\n",
      "1418  0.036944  0.236953  0.123733\n",
      "364   0.081797  0.399154  0.215387\n",
      "1065  0.059361  0.375882  0.407027\n",
      "286   0.039664  0.310296  0.172337\n",
      "551   0.021968  0.203103  0.107763\n",
      "941   0.034845  0.275035  0.248715\n",
      "668   0.060179  0.406206  0.184835\n",
      "462   0.032630  0.253879  0.038166\n",
      "99    0.037486  0.000000  0.130607\n",
      "524   0.049017  0.588152  0.390015\n",
      "1295  0.033186  0.203103  0.143869\n",
      "988   0.050228  0.388575  0.222330\n",
      "544   0.073869  0.300423  0.201035\n",
      "1048  0.095585  0.236953  0.111235\n",
      "894   0.026726  0.282087  0.116592\n",
      "530   0.041599  0.423131  0.194556\n",
      "161   0.057903  0.511989  0.524372\n",
      "170   0.051686  0.465444  0.129982\n",
      "108   0.033654  0.000000  0.111235\n",
      "1319  0.041670  0.174894  0.105680\n",
      "1084  0.054832  0.288434  0.211915\n",
      "1004  0.008797  0.322285  0.202888\n",
      "\n",
      "[1022 rows x 3 columns]\n"
     ]
    }
   ],
   "source": [
    "from sklearn.model_selection import train_test_split\n",
    "train, test = train_test_split(x_sample,test_size = 0.3)\n",
    "print(train)\n",
    "# print(test)\n",
    "# x_train = train.drop('SalePrice',axis = 1)\n",
    "# y_train = train['SalePrice']\n",
    "\n",
    "# x_test = test.drop('SalePrice', axis = 1)\n",
    "# y_test = test['SalePrice']"
   ]
  },
  {
   "cell_type": "markdown",
   "metadata": {},
   "source": [
    "# Predict"
   ]
  },
  {
   "cell_type": "code",
   "execution_count": 8,
   "metadata": {},
   "outputs": [],
   "source": [
    "#Import support library\n",
    "from sklearn import neighbors\n",
    "from sklearn.metrics import mean_squared_error \n",
    "from math import sqrt\n"
   ]
  },
  {
   "cell_type": "code",
   "execution_count": 9,
   "metadata": {},
   "outputs": [
    {
     "ename": "NameError",
     "evalue": "name 'x_train' is not defined",
     "output_type": "error",
     "traceback": [
      "\u001b[0;31m---------------------------------------------------------------------------\u001b[0m",
      "\u001b[0;31mNameError\u001b[0m                                 Traceback (most recent call last)",
      "\u001b[0;32m<ipython-input-9-ed1f83d96c51>\u001b[0m in \u001b[0;36m<module>\u001b[0;34m\u001b[0m\n\u001b[1;32m      4\u001b[0m \u001b[0;34m\u001b[0m\u001b[0m\n\u001b[1;32m      5\u001b[0m \u001b[0;31m# Fitting\u001b[0m\u001b[0;34m\u001b[0m\u001b[0;34m\u001b[0m\u001b[0;34m\u001b[0m\u001b[0m\n\u001b[0;32m----> 6\u001b[0;31m \u001b[0mmodel\u001b[0m\u001b[0;34m.\u001b[0m\u001b[0mfit\u001b[0m\u001b[0;34m(\u001b[0m\u001b[0mx_train\u001b[0m\u001b[0;34m,\u001b[0m\u001b[0my_train\u001b[0m\u001b[0;34m)\u001b[0m\u001b[0;34m\u001b[0m\u001b[0;34m\u001b[0m\u001b[0m\n\u001b[0m\u001b[1;32m      7\u001b[0m \u001b[0;34m\u001b[0m\u001b[0m\n\u001b[1;32m      8\u001b[0m \u001b[0;31m# Prediction\u001b[0m\u001b[0;34m\u001b[0m\u001b[0;34m\u001b[0m\u001b[0;34m\u001b[0m\u001b[0m\n",
      "\u001b[0;31mNameError\u001b[0m: name 'x_train' is not defined"
     ]
    }
   ],
   "source": [
    "K = 3\n",
    "# Make the model\n",
    "model = neighbors.KNeighborsRegressor(n_neighbors=K)\n",
    "\n",
    "# Fitting \n",
    "model.fit(x_train,y_train)\n",
    "\n",
    "# Prediction\n",
    "prediction = model.predict(x_test)\n",
    "prediction"
   ]
  },
  {
   "cell_type": "markdown",
   "metadata": {},
   "source": [
    "# Check Error"
   ]
  },
  {
   "cell_type": "code",
   "execution_count": null,
   "metadata": {},
   "outputs": [],
   "source": [
    "error = sqrt(mean_squared_error(y_test,prediction))\n",
    "error"
   ]
  },
  {
   "cell_type": "markdown",
   "metadata": {},
   "source": [
    "## Check Error with some "
   ]
  },
  {
   "cell_type": "code",
   "execution_count": null,
   "metadata": {},
   "outputs": [],
   "source": [
    "all_error = [] \n",
    "str_error = []\n",
    "for K in range(100):\n",
    "    K += 1\n",
    "    model = neighbors.KNeighborsRegressor(n_neighbors=K)\n",
    "    \n",
    "    #fitting\n",
    "    model.fit(x_train,y_train)\n",
    "    \n",
    "    #prediction\n",
    "    prediction = model.predict(x_test)\n",
    "    \n",
    "    #count error and store it\n",
    "    error = sqrt(mean_squared_error(y_test,prediction))\n",
    "    \n",
    "    all_error.append(error)\n",
    "    str_ =\"RMSE for K = \" + str(K) + \" is \" + str(error) \n",
    "    str_error.append(str_)\n",
    "str_error"
   ]
  },
  {
   "cell_type": "markdown",
   "metadata": {},
   "source": [
    "## Plotting"
   ]
  },
  {
   "cell_type": "code",
   "execution_count": null,
   "metadata": {},
   "outputs": [],
   "source": [
    "plot_curve = pd.DataFrame(all_error)\n",
    "plot_curve.plot()\n"
   ]
  },
  {
   "cell_type": "code",
   "execution_count": null,
   "metadata": {},
   "outputs": [],
   "source": [
    "mini = all_error[0]\n",
    "index = 0\n",
    "for i in range(len(all_error)):\n",
    "     if all_error[i]<mini :\n",
    "            mini = all_error[i]\n",
    "            index = i\n",
    "\n",
    "print(\"The smallest value RMSE is \",mini,\" in index \",index)"
   ]
  },
  {
   "cell_type": "code",
   "execution_count": null,
   "metadata": {},
   "outputs": [],
   "source": []
  }
 ],
 "metadata": {
  "kernelspec": {
   "display_name": "Python 3",
   "language": "python",
   "name": "python3"
  },
  "language_info": {
   "codemirror_mode": {
    "name": "ipython",
    "version": 3
   },
   "file_extension": ".py",
   "mimetype": "text/x-python",
   "name": "python",
   "nbconvert_exporter": "python",
   "pygments_lexer": "ipython3",
   "version": "3.6.8"
  }
 },
 "nbformat": 4,
 "nbformat_minor": 2
}
