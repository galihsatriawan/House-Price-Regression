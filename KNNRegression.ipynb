{
 "cells": [
  {
   "cell_type": "code",
   "execution_count": 1,
   "metadata": {},
   "outputs": [],
   "source": [
    "#import Libraries\n",
    "import pandas as pd\n",
    "import matplotlib.pyplot as plt\n",
    "import numpy as np\n",
    "import pandas as pd"
   ]
  },
  {
   "cell_type": "code",
   "execution_count": 2,
   "metadata": {},
   "outputs": [
    {
     "name": "stdout",
     "output_type": "stream",
     "text": [
      "        Id  MSSubClass MSZoning  LotFrontage  LotArea Street Alley LotShape  \\\n",
      "0        1          60       RL         65.0     8450   Pave   NaN      Reg   \n",
      "1        2          20       RL         80.0     9600   Pave   NaN      Reg   \n",
      "2        3          60       RL         68.0    11250   Pave   NaN      IR1   \n",
      "3        4          70       RL         60.0     9550   Pave   NaN      IR1   \n",
      "4        5          60       RL         84.0    14260   Pave   NaN      IR1   \n",
      "5        6          50       RL         85.0    14115   Pave   NaN      IR1   \n",
      "6        7          20       RL         75.0    10084   Pave   NaN      Reg   \n",
      "7        8          60       RL          NaN    10382   Pave   NaN      IR1   \n",
      "8        9          50       RM         51.0     6120   Pave   NaN      Reg   \n",
      "9       10         190       RL         50.0     7420   Pave   NaN      Reg   \n",
      "10      11          20       RL         70.0    11200   Pave   NaN      Reg   \n",
      "11      12          60       RL         85.0    11924   Pave   NaN      IR1   \n",
      "12      13          20       RL          NaN    12968   Pave   NaN      IR2   \n",
      "13      14          20       RL         91.0    10652   Pave   NaN      IR1   \n",
      "14      15          20       RL          NaN    10920   Pave   NaN      IR1   \n",
      "15      16          45       RM         51.0     6120   Pave   NaN      Reg   \n",
      "16      17          20       RL          NaN    11241   Pave   NaN      IR1   \n",
      "17      18          90       RL         72.0    10791   Pave   NaN      Reg   \n",
      "18      19          20       RL         66.0    13695   Pave   NaN      Reg   \n",
      "19      20          20       RL         70.0     7560   Pave   NaN      Reg   \n",
      "20      21          60       RL        101.0    14215   Pave   NaN      IR1   \n",
      "21      22          45       RM         57.0     7449   Pave  Grvl      Reg   \n",
      "22      23          20       RL         75.0     9742   Pave   NaN      Reg   \n",
      "23      24         120       RM         44.0     4224   Pave   NaN      Reg   \n",
      "24      25          20       RL          NaN     8246   Pave   NaN      IR1   \n",
      "25      26          20       RL        110.0    14230   Pave   NaN      Reg   \n",
      "26      27          20       RL         60.0     7200   Pave   NaN      Reg   \n",
      "27      28          20       RL         98.0    11478   Pave   NaN      Reg   \n",
      "28      29          20       RL         47.0    16321   Pave   NaN      IR1   \n",
      "29      30          30       RM         60.0     6324   Pave   NaN      IR1   \n",
      "...    ...         ...      ...          ...      ...    ...   ...      ...   \n",
      "1430  1431          60       RL         60.0    21930   Pave   NaN      IR3   \n",
      "1431  1432         120       RL          NaN     4928   Pave   NaN      IR1   \n",
      "1432  1433          30       RL         60.0    10800   Pave  Grvl      Reg   \n",
      "1433  1434          60       RL         93.0    10261   Pave   NaN      IR1   \n",
      "1434  1435          20       RL         80.0    17400   Pave   NaN      Reg   \n",
      "1435  1436          20       RL         80.0     8400   Pave   NaN      Reg   \n",
      "1436  1437          20       RL         60.0     9000   Pave   NaN      Reg   \n",
      "1437  1438          20       RL         96.0    12444   Pave   NaN      Reg   \n",
      "1438  1439          20       RM         90.0     7407   Pave   NaN      Reg   \n",
      "1439  1440          60       RL         80.0    11584   Pave   NaN      Reg   \n",
      "1440  1441          70       RL         79.0    11526   Pave   NaN      IR1   \n",
      "1441  1442         120       RM          NaN     4426   Pave   NaN      Reg   \n",
      "1442  1443          60       FV         85.0    11003   Pave   NaN      Reg   \n",
      "1443  1444          30       RL          NaN     8854   Pave   NaN      Reg   \n",
      "1444  1445          20       RL         63.0     8500   Pave   NaN      Reg   \n",
      "1445  1446          85       RL         70.0     8400   Pave   NaN      Reg   \n",
      "1446  1447          20       RL          NaN    26142   Pave   NaN      IR1   \n",
      "1447  1448          60       RL         80.0    10000   Pave   NaN      Reg   \n",
      "1448  1449          50       RL         70.0    11767   Pave   NaN      Reg   \n",
      "1449  1450         180       RM         21.0     1533   Pave   NaN      Reg   \n",
      "1450  1451          90       RL         60.0     9000   Pave   NaN      Reg   \n",
      "1451  1452          20       RL         78.0     9262   Pave   NaN      Reg   \n",
      "1452  1453         180       RM         35.0     3675   Pave   NaN      Reg   \n",
      "1453  1454          20       RL         90.0    17217   Pave   NaN      Reg   \n",
      "1454  1455          20       FV         62.0     7500   Pave  Pave      Reg   \n",
      "1455  1456          60       RL         62.0     7917   Pave   NaN      Reg   \n",
      "1456  1457          20       RL         85.0    13175   Pave   NaN      Reg   \n",
      "1457  1458          70       RL         66.0     9042   Pave   NaN      Reg   \n",
      "1458  1459          20       RL         68.0     9717   Pave   NaN      Reg   \n",
      "1459  1460          20       RL         75.0     9937   Pave   NaN      Reg   \n",
      "\n",
      "     LandContour Utilities  ... PoolArea PoolQC  Fence MiscFeature MiscVal  \\\n",
      "0            Lvl    AllPub  ...        0    NaN    NaN         NaN       0   \n",
      "1            Lvl    AllPub  ...        0    NaN    NaN         NaN       0   \n",
      "2            Lvl    AllPub  ...        0    NaN    NaN         NaN       0   \n",
      "3            Lvl    AllPub  ...        0    NaN    NaN         NaN       0   \n",
      "4            Lvl    AllPub  ...        0    NaN    NaN         NaN       0   \n",
      "5            Lvl    AllPub  ...        0    NaN  MnPrv        Shed     700   \n",
      "6            Lvl    AllPub  ...        0    NaN    NaN         NaN       0   \n",
      "7            Lvl    AllPub  ...        0    NaN    NaN        Shed     350   \n",
      "8            Lvl    AllPub  ...        0    NaN    NaN         NaN       0   \n",
      "9            Lvl    AllPub  ...        0    NaN    NaN         NaN       0   \n",
      "10           Lvl    AllPub  ...        0    NaN    NaN         NaN       0   \n",
      "11           Lvl    AllPub  ...        0    NaN    NaN         NaN       0   \n",
      "12           Lvl    AllPub  ...        0    NaN    NaN         NaN       0   \n",
      "13           Lvl    AllPub  ...        0    NaN    NaN         NaN       0   \n",
      "14           Lvl    AllPub  ...        0    NaN   GdWo         NaN       0   \n",
      "15           Lvl    AllPub  ...        0    NaN  GdPrv         NaN       0   \n",
      "16           Lvl    AllPub  ...        0    NaN    NaN        Shed     700   \n",
      "17           Lvl    AllPub  ...        0    NaN    NaN        Shed     500   \n",
      "18           Lvl    AllPub  ...        0    NaN    NaN         NaN       0   \n",
      "19           Lvl    AllPub  ...        0    NaN  MnPrv         NaN       0   \n",
      "20           Lvl    AllPub  ...        0    NaN    NaN         NaN       0   \n",
      "21           Bnk    AllPub  ...        0    NaN  GdPrv         NaN       0   \n",
      "22           Lvl    AllPub  ...        0    NaN    NaN         NaN       0   \n",
      "23           Lvl    AllPub  ...        0    NaN    NaN         NaN       0   \n",
      "24           Lvl    AllPub  ...        0    NaN  MnPrv         NaN       0   \n",
      "25           Lvl    AllPub  ...        0    NaN    NaN         NaN       0   \n",
      "26           Lvl    AllPub  ...        0    NaN    NaN         NaN       0   \n",
      "27           Lvl    AllPub  ...        0    NaN    NaN         NaN       0   \n",
      "28           Lvl    AllPub  ...        0    NaN    NaN         NaN       0   \n",
      "29           Lvl    AllPub  ...        0    NaN    NaN         NaN       0   \n",
      "...          ...       ...  ...      ...    ...    ...         ...     ...   \n",
      "1430         Lvl    AllPub  ...        0    NaN    NaN         NaN       0   \n",
      "1431         Lvl    AllPub  ...        0    NaN    NaN         NaN       0   \n",
      "1432         Lvl    AllPub  ...        0    NaN    NaN         NaN       0   \n",
      "1433         Lvl    AllPub  ...        0    NaN    NaN         NaN       0   \n",
      "1434         Low    AllPub  ...        0    NaN    NaN         NaN       0   \n",
      "1435         Lvl    AllPub  ...        0    NaN  GdPrv         NaN       0   \n",
      "1436         Lvl    AllPub  ...        0    NaN   GdWo         NaN       0   \n",
      "1437         Lvl    AllPub  ...        0    NaN    NaN         NaN       0   \n",
      "1438         Lvl    AllPub  ...        0    NaN  MnPrv         NaN       0   \n",
      "1439         Lvl    AllPub  ...        0    NaN    NaN         NaN       0   \n",
      "1440         Bnk    AllPub  ...        0    NaN    NaN         NaN       0   \n",
      "1441         Lvl    AllPub  ...        0    NaN    NaN         NaN       0   \n",
      "1442         Lvl    AllPub  ...        0    NaN    NaN         NaN       0   \n",
      "1443         Lvl    AllPub  ...        0    NaN    NaN         NaN       0   \n",
      "1444         Lvl    AllPub  ...        0    NaN    NaN         NaN       0   \n",
      "1445         Lvl    AllPub  ...        0    NaN    NaN         NaN       0   \n",
      "1446         Lvl    AllPub  ...        0    NaN    NaN         NaN       0   \n",
      "1447         Lvl    AllPub  ...        0    NaN    NaN         NaN       0   \n",
      "1448         Lvl    AllPub  ...        0    NaN   GdWo         NaN       0   \n",
      "1449         Lvl    AllPub  ...        0    NaN    NaN         NaN       0   \n",
      "1450         Lvl    AllPub  ...        0    NaN    NaN         NaN       0   \n",
      "1451         Lvl    AllPub  ...        0    NaN    NaN         NaN       0   \n",
      "1452         Lvl    AllPub  ...        0    NaN    NaN         NaN       0   \n",
      "1453         Lvl    AllPub  ...        0    NaN    NaN         NaN       0   \n",
      "1454         Lvl    AllPub  ...        0    NaN    NaN         NaN       0   \n",
      "1455         Lvl    AllPub  ...        0    NaN    NaN         NaN       0   \n",
      "1456         Lvl    AllPub  ...        0    NaN  MnPrv         NaN       0   \n",
      "1457         Lvl    AllPub  ...        0    NaN  GdPrv        Shed    2500   \n",
      "1458         Lvl    AllPub  ...        0    NaN    NaN         NaN       0   \n",
      "1459         Lvl    AllPub  ...        0    NaN    NaN         NaN       0   \n",
      "\n",
      "     MoSold YrSold  SaleType  SaleCondition  SalePrice  \n",
      "0         2   2008        WD         Normal     208500  \n",
      "1         5   2007        WD         Normal     181500  \n",
      "2         9   2008        WD         Normal     223500  \n",
      "3         2   2006        WD        Abnorml     140000  \n",
      "4        12   2008        WD         Normal     250000  \n",
      "5        10   2009        WD         Normal     143000  \n",
      "6         8   2007        WD         Normal     307000  \n",
      "7        11   2009        WD         Normal     200000  \n",
      "8         4   2008        WD        Abnorml     129900  \n",
      "9         1   2008        WD         Normal     118000  \n",
      "10        2   2008        WD         Normal     129500  \n",
      "11        7   2006       New        Partial     345000  \n",
      "12        9   2008        WD         Normal     144000  \n",
      "13        8   2007       New        Partial     279500  \n",
      "14        5   2008        WD         Normal     157000  \n",
      "15        7   2007        WD         Normal     132000  \n",
      "16        3   2010        WD         Normal     149000  \n",
      "17       10   2006        WD         Normal      90000  \n",
      "18        6   2008        WD         Normal     159000  \n",
      "19        5   2009       COD        Abnorml     139000  \n",
      "20       11   2006       New        Partial     325300  \n",
      "21        6   2007        WD         Normal     139400  \n",
      "22        9   2008        WD         Normal     230000  \n",
      "23        6   2007        WD         Normal     129900  \n",
      "24        5   2010        WD         Normal     154000  \n",
      "25        7   2009        WD         Normal     256300  \n",
      "26        5   2010        WD         Normal     134800  \n",
      "27        5   2010        WD         Normal     306000  \n",
      "28       12   2006        WD         Normal     207500  \n",
      "29        5   2008        WD         Normal      68500  \n",
      "...     ...    ...       ...            ...        ...  \n",
      "1430      7   2006        WD         Normal     192140  \n",
      "1431     10   2009        WD         Normal     143750  \n",
      "1432      8   2007        WD         Normal      64500  \n",
      "1433      5   2008        WD         Normal     186500  \n",
      "1434      5   2006        WD         Normal     160000  \n",
      "1435      7   2008       COD        Abnorml     174000  \n",
      "1436      5   2007        WD         Normal     120500  \n",
      "1437     11   2008       New        Partial     394617  \n",
      "1438      4   2010        WD         Normal     149700  \n",
      "1439     11   2007        WD         Normal     197000  \n",
      "1440      9   2008        WD         Normal     191000  \n",
      "1441      5   2008        WD         Normal     149300  \n",
      "1442      4   2009        WD         Normal     310000  \n",
      "1443      5   2009        WD         Normal     121000  \n",
      "1444     11   2007        WD         Normal     179600  \n",
      "1445      5   2007        WD         Normal     129000  \n",
      "1446      4   2010        WD         Normal     157900  \n",
      "1447     12   2007        WD         Normal     240000  \n",
      "1448      5   2007        WD         Normal     112000  \n",
      "1449      8   2006        WD        Abnorml      92000  \n",
      "1450      9   2009        WD         Normal     136000  \n",
      "1451      5   2009       New        Partial     287090  \n",
      "1452      5   2006        WD         Normal     145000  \n",
      "1453      7   2006        WD        Abnorml      84500  \n",
      "1454     10   2009        WD         Normal     185000  \n",
      "1455      8   2007        WD         Normal     175000  \n",
      "1456      2   2010        WD         Normal     210000  \n",
      "1457      5   2010        WD         Normal     266500  \n",
      "1458      4   2010        WD         Normal     142125  \n",
      "1459      6   2008        WD         Normal     147500  \n",
      "\n",
      "[1460 rows x 81 columns]\n"
     ]
    }
   ],
   "source": [
    "# Load Data\n",
    "df_train = pd.read_csv('/home/sh0brun/Documents/Untitled Folder/train.csv')\n",
    "print(df_train)"
   ]
  },
  {
   "cell_type": "code",
   "execution_count": 3,
   "metadata": {},
   "outputs": [
    {
     "name": "stdout",
     "output_type": "stream",
     "text": [
      "   LotArea  GarageArea  SalePrice\n",
      "0     8450         548     208500\n",
      "1     9600         460     181500\n",
      "2    11250         608     223500\n",
      "3     9550         642     140000\n",
      "4    14260         836     250000\n"
     ]
    }
   ],
   "source": [
    "#Take sample feature\n",
    "sample_df_train = df_train[['LotArea','GarageArea','SalePrice']]\n",
    "print(sample_df_train.head())"
   ]
  },
  {
   "cell_type": "code",
   "execution_count": 4,
   "metadata": {},
   "outputs": [],
   "source": [
    "#Clean Data\n",
    "sample_df_train = sample_df_train.dropna()"
   ]
  },
  {
   "cell_type": "markdown",
   "metadata": {},
   "source": []
  },
  {
   "cell_type": "code",
   "execution_count": 5,
   "metadata": {},
   "outputs": [],
   "source": [
    "y_sample = sample_df_train['SalePrice']\n",
    "sample_df_train = sample_df_train.drop('SalePrice',axis = 1)\n",
    "# test = pd.merge(sample_df_train,y_sample,right_index = True,left_index = True)\n",
    "# test"
   ]
  },
  {
   "cell_type": "markdown",
   "metadata": {},
   "source": [
    "# Standardization\n"
   ]
  },
  {
   "cell_type": "code",
   "execution_count": 6,
   "metadata": {},
   "outputs": [],
   "source": [
    "from sklearn import preprocessing\n",
    "# Create the Scaler object\n",
    "scaler = preprocessing.StandardScaler()\n",
    "# Fit your data on the scaler object\n",
    "x_scaled = scaler.fit_transform(sample_df_train)\n",
    "x_sample = pd.DataFrame(x_scaled, columns=sample_df_train.columns)"
   ]
  },
  {
   "cell_type": "markdown",
   "metadata": {},
   "source": [
    "# Normalization\n",
    "### Formula Transformation\n",
    "X_std = (X - X.min(axis=0)) / (X.max(axis=0) - X.min(axis=0))\n",
    "<br> X_scaled = X_std * (max - min) + min\n",
    "<br> nb: max and min given by feature_range"
   ]
  },
  {
   "cell_type": "code",
   "execution_count": 20,
   "metadata": {},
   "outputs": [
    {
     "name": "stdout",
     "output_type": "stream",
     "text": [
      "       LotArea  GarageArea  SalePrice\n",
      "0    -0.207142    0.351000     208500\n",
      "1    -0.091886   -0.060731     181500\n",
      "2     0.073480    0.631726     223500\n",
      "3    -0.096897    0.790804     140000\n",
      "4     0.375148    1.698485     250000\n",
      "5     0.360616    0.032844     143000\n",
      "6    -0.043379    0.762732     307000\n",
      "7    -0.013513    0.051559     200000\n",
      "8    -0.440659   -0.023301     129900\n",
      "9    -0.310370   -1.253816     118000\n",
      "10    0.068469   -0.416317     129500\n",
      "11    0.141030    1.230608     345000\n",
      "12    0.245661   -0.566038     144000\n",
      "13    0.013547    1.717200     279500\n",
      "14    0.040407   -0.566038     157000\n",
      "15   -0.440659    0.482006     132000\n",
      "16    0.072578    0.032844     149000\n",
      "17    0.027478    0.201280      90000\n",
      "18    0.318523    0.482006     159000\n",
      "19   -0.296339   -0.837406     139000\n",
      "20    0.370638    1.778024     325300\n",
      "21   -0.307464   -0.902909     139400\n",
      "22   -0.077655    0.285498     230000\n",
      "23   -0.630680    0.463291     129900\n",
      "24   -0.227587   -0.949696     154000\n",
      "25    0.372142    1.951138     256300\n",
      "26   -0.332419    0.482006     134800\n",
      "27    0.096331    1.399044     306000\n",
      "28    0.581706   -0.720437     207500\n",
      "29   -0.420214   -1.090059      68500\n",
      "...        ...         ...        ...\n",
      "1430  1.143851   -0.472462     192140\n",
      "1431 -0.560124   -0.154306     143750\n",
      "1432  0.028380   -1.202350      64500\n",
      "1433 -0.025640   -0.102840     186500\n",
      "1434  0.689845    0.051559     160000\n",
      "1435 -0.212153   -0.051373     174000\n",
      "1436 -0.152020    0.257425     120500\n",
      "1437  0.193145    1.408401     394617\n",
      "1438 -0.311673    2.105537     149700\n",
      "1439  0.106954    0.360358     197000\n",
      "1440  0.101141    0.931167     191000\n",
      "1441 -0.610435   -0.247882     149300\n",
      "1442  0.048725    1.586194     310000\n",
      "1443 -0.166652   -1.314640     121000\n",
      "1444 -0.202131    0.715944     179600\n",
      "1445 -0.212153   -1.090059     129000\n",
      "1446  1.565986   -0.753188     157900\n",
      "1447 -0.051798    0.388430     240000\n",
      "1448  0.125295   -0.416317     112000\n",
      "1449 -0.900377   -2.212963      92000\n",
      "1450 -0.152020   -2.212963     136000\n",
      "1451 -0.125761    1.717200     287090\n",
      "1452 -0.685702    0.243389     145000\n",
      "1453  0.671505   -2.212963      84500\n",
      "1454 -0.302353   -0.341457     185000\n",
      "1455 -0.260560   -0.060731     175000\n",
      "1456  0.266407    0.126420     210000\n",
      "1457 -0.147810   -1.033914     266500\n",
      "1458 -0.080160   -1.090059     142125\n",
      "1459 -0.058112   -0.921624     147500\n",
      "\n",
      "[1460 rows x 3 columns]\n"
     ]
    }
   ],
   "source": [
    "# from sklearn.preprocessing import MinMaxScaler\n",
    "# scaler = MinMaxScaler(feature_range=(0,1),copy=True)\n",
    "# x_scaled = scaler.fit_transform(sample_df_train)\n",
    "\n",
    "# x_sample = pd.DataFrame(x_scaled)\n",
    "sampled = pd.merge(x_sample,y_sample,right_index = True, left_index = True)\n",
    "# print(sampled)"
   ]
  },
  {
   "cell_type": "markdown",
   "metadata": {},
   "source": [
    "# Create Train and Test Set from train.csv"
   ]
  },
  {
   "cell_type": "code",
   "execution_count": 8,
   "metadata": {},
   "outputs": [],
   "source": [
    "from sklearn.model_selection import train_test_split\n",
    "train, test = train_test_split(sampled,test_size = 0.3)\n",
    "# print(train)\n",
    "# print(test)\n",
    "x_train = train.drop('SalePrice',axis = 1)\n",
    "y_train = train['SalePrice']\n",
    "\n",
    "x_test = test.drop('SalePrice', axis = 1)\n",
    "y_test = test['SalePrice']"
   ]
  },
  {
   "cell_type": "markdown",
   "metadata": {},
   "source": [
    "# Predict"
   ]
  },
  {
   "cell_type": "code",
   "execution_count": 9,
   "metadata": {},
   "outputs": [],
   "source": [
    "#Import support library\n",
    "from sklearn import neighbors\n",
    "from sklearn.metrics import mean_squared_error \n",
    "from math import sqrt\n"
   ]
  },
  {
   "cell_type": "code",
   "execution_count": 10,
   "metadata": {},
   "outputs": [
    {
     "data": {
      "text/plain": [
       "array([144500.        , 304600.        , 140300.        , 211166.66666667,\n",
       "       133666.66666667, 173644.        , 245833.33333333, 103666.66666667,\n",
       "        61166.66666667, 233333.33333333, 132133.33333333, 178866.66666667,\n",
       "       138500.        ,  89833.33333333, 155634.        , 180055.        ,\n",
       "       291300.        , 281811.66666667, 117800.        , 283996.66666667,\n",
       "       243500.        , 123800.        , 234666.66666667, 164333.33333333,\n",
       "       187666.66666667, 295205.66666667, 136416.66666667, 182833.33333333,\n",
       "       155666.66666667, 119500.        , 109725.        , 149000.        ,\n",
       "       175916.66666667, 248753.66666667, 315623.33333333,  74133.33333333,\n",
       "       182330.        , 531420.33333333, 124366.66666667, 179000.        ,\n",
       "        69133.33333333, 129250.        , 173833.33333333, 210000.        ,\n",
       "       125833.33333333, 100500.        , 160166.66666667, 136500.        ,\n",
       "       157833.33333333, 158250.        , 119966.66666667, 114833.33333333,\n",
       "       175916.66666667, 186966.66666667, 141500.        , 100500.        ,\n",
       "       122583.33333333, 132166.66666667, 156000.        , 210860.        ,\n",
       "       256306.33333333, 116500.        , 170066.66666667, 192830.        ,\n",
       "        79366.66666667, 153666.66666667, 190966.66666667, 208966.66666667,\n",
       "       312535.        , 345039.        , 192830.        , 136416.66666667,\n",
       "       104000.        , 123233.33333333, 141833.33333333, 253866.66666667,\n",
       "       212166.66666667, 187333.33333333, 258500.        ,  89833.33333333,\n",
       "       149166.66666667, 289210.66666667, 164000.        , 159000.        ,\n",
       "       147433.33333333, 234020.33333333, 100500.        , 240166.66666667,\n",
       "       155666.66666667, 198323.33333333, 157333.33333333, 181166.66666667,\n",
       "       166301.66666667, 286200.        , 138050.        , 177166.66666667,\n",
       "       117000.        , 174333.33333333, 107853.66666667, 259230.66666667,\n",
       "       157166.66666667, 160833.33333333, 140333.33333333, 246666.66666667,\n",
       "       114483.33333333, 122836.        , 178866.66666667, 207723.33333333,\n",
       "       176000.        , 234000.        , 145466.66666667, 140166.66666667,\n",
       "       149833.33333333,  87500.        , 286200.        , 192830.        ,\n",
       "       137333.33333333, 215033.33333333, 307612.33333333, 135766.66666667,\n",
       "       207096.66666667, 156633.33333333, 283766.66666667, 196133.33333333,\n",
       "       194466.66666667, 130700.        , 233064.        , 152966.66666667,\n",
       "       221000.        , 160633.33333333, 218833.33333333, 307498.        ,\n",
       "        97666.66666667, 123666.66666667, 244200.        , 151166.66666667,\n",
       "       137833.33333333,  79366.66666667, 202933.        , 256512.33333333,\n",
       "       141000.        , 119000.        , 188333.33333333,  99833.33333333,\n",
       "       209033.33333333, 178583.33333333, 206666.66666667, 172000.        ,\n",
       "       208966.66666667, 117983.33333333,  99333.33333333, 298000.        ,\n",
       "       222233.33333333, 149933.33333333, 190800.        , 251276.        ,\n",
       "       318000.        , 248696.66666667, 182833.33333333, 211554.        ,\n",
       "       162833.33333333, 371666.66666667, 216166.66666667, 386666.66666667,\n",
       "       217633.33333333, 100500.        , 189600.        , 108631.66666667,\n",
       "        98500.        , 262626.        , 116700.        , 221761.66666667,\n",
       "       104000.        , 139333.33333333, 107666.66666667, 145302.66666667,\n",
       "       213666.66666667, 304833.33333333, 148466.66666667, 237166.66666667,\n",
       "       118501.33333333, 140113.66666667, 356160.33333333, 159300.        ,\n",
       "       100500.        , 307612.33333333, 136416.66666667, 221500.        ,\n",
       "       217288.33333333, 153666.66666667, 210000.        , 116700.        ,\n",
       "       162300.        , 118133.33333333, 161500.        , 165900.        ,\n",
       "       207723.33333333, 298000.        , 187221.66666667, 131000.        ,\n",
       "       158166.66666667, 122650.        , 123666.66666667, 189183.33333333,\n",
       "       116700.        , 136166.66666667, 153000.        , 155666.66666667,\n",
       "       159200.        , 314831.        , 162416.66666667, 308542.66666667,\n",
       "       303533.33333333, 285827.66666667,  98500.        , 122300.        ,\n",
       "       114133.33333333, 175000.        , 245666.66666667, 192833.33333333,\n",
       "       152531.66666667, 160833.33333333, 217333.33333333, 141500.        ,\n",
       "       258666.66666667, 148166.66666667, 315623.33333333, 161333.33333333,\n",
       "       129966.66666667, 126833.33333333, 236300.        , 165833.33333333,\n",
       "       155333.33333333, 124966.66666667, 220166.66666667, 143644.        ,\n",
       "       224196.66666667, 122666.66666667, 220166.66666667, 169150.        ,\n",
       "       156633.33333333, 155000.        , 178583.33333333, 212166.66666667,\n",
       "       288333.33333333, 262500.        , 123800.        , 160333.33333333,\n",
       "       190000.        , 221500.        , 119800.        , 142333.33333333,\n",
       "       191166.66666667, 129466.66666667, 183500.        , 114133.33333333,\n",
       "       211554.        , 129666.66666667, 202666.66666667, 281728.66666667,\n",
       "       149966.66666667, 221485.33333333, 179595.        , 305533.33333333,\n",
       "       180395.        , 123166.66666667, 235000.        , 155000.        ,\n",
       "       159300.        , 109333.33333333, 144733.33333333, 122300.        ,\n",
       "       148466.66666667, 158250.        , 161783.33333333, 186333.33333333,\n",
       "       304833.33333333, 111350.        , 101333.33333333, 129666.66666667,\n",
       "       304166.66666667,  87333.33333333, 142833.33333333, 113633.33333333,\n",
       "       109333.33333333, 337733.33333333, 166666.66666667, 136208.33333333,\n",
       "       112833.33333333, 110500.        , 211554.        , 129166.66666667,\n",
       "       139166.66666667, 157166.66666667, 227833.33333333, 140583.33333333,\n",
       "       122666.66666667, 135000.        , 179500.        , 159833.33333333,\n",
       "       248753.66666667, 119000.        , 160833.33333333, 170000.        ,\n",
       "        99333.33333333, 237353.        , 167333.33333333, 148412.33333333,\n",
       "       175000.        , 286200.        , 126500.        , 154416.66666667,\n",
       "       199666.66666667, 194985.33333333, 327416.66666667, 158533.33333333,\n",
       "       145166.66666667, 178416.66666667, 145833.33333333, 340205.66666667,\n",
       "       291333.33333333, 134300.        , 117983.33333333, 252666.66666667,\n",
       "       126500.        ,  79366.66666667, 202300.        , 263166.66666667,\n",
       "       221500.        , 139166.66666667, 237633.33333333, 270064.        ,\n",
       "       130833.33333333, 119500.        , 167483.33333333, 191866.66666667,\n",
       "       151833.33333333, 257041.33333333, 106288.        , 144333.33333333,\n",
       "       192333.33333333, 216666.66666667, 208020.33333333, 109633.33333333,\n",
       "       178416.66666667, 147933.33333333, 119333.33333333, 142300.        ,\n",
       "       333808.66666667, 113633.33333333, 201000.        , 173644.        ,\n",
       "       245633.33333333,  90266.66666667, 177378.        , 189500.        ,\n",
       "       203966.66666667, 144166.66666667, 118600.        , 210466.33333333,\n",
       "       270064.        , 173833.33333333, 207723.33333333, 139000.        ,\n",
       "       337166.66666667, 169883.33333333, 101500.        , 211166.66666667,\n",
       "       140333.33333333, 159200.        , 119966.66666667, 186626.33333333,\n",
       "       112500.        , 277000.        , 159833.33333333, 187666.66666667,\n",
       "        95500.        , 165500.        , 179133.33333333, 125666.66666667,\n",
       "       164000.        , 170500.        , 158966.66666667, 122900.        ,\n",
       "       113633.33333333, 196666.66666667, 162666.66666667, 176283.33333333,\n",
       "       208966.66666667, 207545.        , 369250.        , 345039.        ,\n",
       "       208666.66666667,  61166.66666667, 329308.66666667, 179000.        ,\n",
       "       126500.        , 137966.66666667, 202221.66666667, 134250.        ,\n",
       "       163666.66666667, 311044.        , 169150.        , 137333.33333333,\n",
       "       129966.66666667, 294666.66666667, 122583.33333333, 208666.66666667,\n",
       "       107200.        , 106633.33333333, 171166.66666667, 204333.33333333,\n",
       "       204133.33333333, 224866.66666667, 192830.        , 149000.        ,\n",
       "       171800.        , 143966.66666667, 191000.        , 145966.66666667,\n",
       "       203000.        , 157819.66666667, 106633.33333333, 157300.        ,\n",
       "       166977.33333333, 170966.66666667, 459087.        , 358000.        ,\n",
       "       327416.66666667, 140583.33333333, 109000.        , 160333.33333333,\n",
       "       179000.        , 244333.33333333, 129666.66666667, 164166.66666667,\n",
       "       158166.66666667, 152000.        ])"
      ]
     },
     "execution_count": 10,
     "metadata": {},
     "output_type": "execute_result"
    }
   ],
   "source": [
    "K = 3\n",
    "# Make the model\n",
    "model = neighbors.KNeighborsRegressor(n_neighbors=K)\n",
    "\n",
    "# Fitting \n",
    "model.fit(x_train,y_train)\n",
    "\n",
    "# Prediction\n",
    "prediction = model.predict(x_test)\n",
    "prediction"
   ]
  },
  {
   "cell_type": "markdown",
   "metadata": {},
   "source": [
    "# Check Error"
   ]
  },
  {
   "cell_type": "code",
   "execution_count": 11,
   "metadata": {},
   "outputs": [
    {
     "data": {
      "text/plain": [
       "58944.43010482025"
      ]
     },
     "execution_count": 11,
     "metadata": {},
     "output_type": "execute_result"
    }
   ],
   "source": [
    "error = sqrt(mean_squared_error(y_test,prediction))\n",
    "error"
   ]
  },
  {
   "cell_type": "markdown",
   "metadata": {},
   "source": [
    "## Check Error with some "
   ]
  },
  {
   "cell_type": "code",
   "execution_count": 12,
   "metadata": {},
   "outputs": [
    {
     "data": {
      "text/plain": [
       "['RMSE for K = 1 is 71717.73958721789',\n",
       " 'RMSE for K = 2 is 62645.67633384424',\n",
       " 'RMSE for K = 3 is 58944.43010482025',\n",
       " 'RMSE for K = 4 is 56730.46068313293',\n",
       " 'RMSE for K = 5 is 55899.657992047265',\n",
       " 'RMSE for K = 6 is 54217.58340853749',\n",
       " 'RMSE for K = 7 is 53074.19527020949',\n",
       " 'RMSE for K = 8 is 51604.764235911745',\n",
       " 'RMSE for K = 9 is 51566.639209248184',\n",
       " 'RMSE for K = 10 is 51145.30801551314',\n",
       " 'RMSE for K = 11 is 51348.409475150824',\n",
       " 'RMSE for K = 12 is 50871.14696736819',\n",
       " 'RMSE for K = 13 is 50811.00690838498',\n",
       " 'RMSE for K = 14 is 50560.536226000855',\n",
       " 'RMSE for K = 15 is 50512.42546453896',\n",
       " 'RMSE for K = 16 is 50670.42243916555',\n",
       " 'RMSE for K = 17 is 50733.85304193488',\n",
       " 'RMSE for K = 18 is 50612.67525871111',\n",
       " 'RMSE for K = 19 is 50682.805730313274',\n",
       " 'RMSE for K = 20 is 50814.82208605722',\n",
       " 'RMSE for K = 21 is 50589.87798909482',\n",
       " 'RMSE for K = 22 is 50417.86169624922',\n",
       " 'RMSE for K = 23 is 50494.055895815225',\n",
       " 'RMSE for K = 24 is 50360.97999895442',\n",
       " 'RMSE for K = 25 is 50298.953268573896',\n",
       " 'RMSE for K = 26 is 50242.35070453461',\n",
       " 'RMSE for K = 27 is 50334.22706589492',\n",
       " 'RMSE for K = 28 is 50429.74300086946',\n",
       " 'RMSE for K = 29 is 50328.02321266709',\n",
       " 'RMSE for K = 30 is 50549.71269236736',\n",
       " 'RMSE for K = 31 is 50678.28227283011',\n",
       " 'RMSE for K = 32 is 50532.096691437364',\n",
       " 'RMSE for K = 33 is 50649.198934644715',\n",
       " 'RMSE for K = 34 is 50644.3234613616',\n",
       " 'RMSE for K = 35 is 50625.5038100067',\n",
       " 'RMSE for K = 36 is 50537.623411552',\n",
       " 'RMSE for K = 37 is 50731.93327468599',\n",
       " 'RMSE for K = 38 is 50736.49265291259',\n",
       " 'RMSE for K = 39 is 50770.75347276958',\n",
       " 'RMSE for K = 40 is 50858.00765386761',\n",
       " 'RMSE for K = 41 is 50846.0109298823',\n",
       " 'RMSE for K = 42 is 50890.6802479766',\n",
       " 'RMSE for K = 43 is 50879.29495760743',\n",
       " 'RMSE for K = 44 is 50870.57138385125',\n",
       " 'RMSE for K = 45 is 50942.930434666436',\n",
       " 'RMSE for K = 46 is 51066.97407029499',\n",
       " 'RMSE for K = 47 is 50920.92442177556',\n",
       " 'RMSE for K = 48 is 50928.50889015685',\n",
       " 'RMSE for K = 49 is 50757.05030681348',\n",
       " 'RMSE for K = 50 is 50906.73479405956',\n",
       " 'RMSE for K = 51 is 51139.74877299295',\n",
       " 'RMSE for K = 52 is 51105.81800023482',\n",
       " 'RMSE for K = 53 is 51204.26442884924',\n",
       " 'RMSE for K = 54 is 51237.74949474776',\n",
       " 'RMSE for K = 55 is 51246.249514494135',\n",
       " 'RMSE for K = 56 is 51269.89882822466',\n",
       " 'RMSE for K = 57 is 51347.33804729036',\n",
       " 'RMSE for K = 58 is 51313.78319222054',\n",
       " 'RMSE for K = 59 is 51342.959408985735',\n",
       " 'RMSE for K = 60 is 51413.79805319051',\n",
       " 'RMSE for K = 61 is 51419.80210208249',\n",
       " 'RMSE for K = 62 is 51410.835314795186',\n",
       " 'RMSE for K = 63 is 51326.65185459777',\n",
       " 'RMSE for K = 64 is 51320.69782031252',\n",
       " 'RMSE for K = 65 is 51455.79545887876',\n",
       " 'RMSE for K = 66 is 51581.614536540204',\n",
       " 'RMSE for K = 67 is 51626.102084194434',\n",
       " 'RMSE for K = 68 is 51609.074783023134',\n",
       " 'RMSE for K = 69 is 51607.551794013285',\n",
       " 'RMSE for K = 70 is 51643.38973494275',\n",
       " 'RMSE for K = 71 is 51629.25145635227',\n",
       " 'RMSE for K = 72 is 51546.87824399407',\n",
       " 'RMSE for K = 73 is 51589.42175677941',\n",
       " 'RMSE for K = 74 is 51633.34129541617',\n",
       " 'RMSE for K = 75 is 51644.979166647645',\n",
       " 'RMSE for K = 76 is 51578.898118730875',\n",
       " 'RMSE for K = 77 is 51550.13533351571',\n",
       " 'RMSE for K = 78 is 51685.93353001569',\n",
       " 'RMSE for K = 79 is 51764.95618881779',\n",
       " 'RMSE for K = 80 is 51841.459417656435',\n",
       " 'RMSE for K = 81 is 51881.80232005311',\n",
       " 'RMSE for K = 82 is 51886.79537744206',\n",
       " 'RMSE for K = 83 is 51852.77788230649',\n",
       " 'RMSE for K = 84 is 51876.943385594524',\n",
       " 'RMSE for K = 85 is 51918.59758723173',\n",
       " 'RMSE for K = 86 is 52016.20885208641',\n",
       " 'RMSE for K = 87 is 52070.04128469499',\n",
       " 'RMSE for K = 88 is 52103.96532619386',\n",
       " 'RMSE for K = 89 is 52110.00591431145',\n",
       " 'RMSE for K = 90 is 52134.84588582333',\n",
       " 'RMSE for K = 91 is 52143.223896289004',\n",
       " 'RMSE for K = 92 is 52165.715881514814',\n",
       " 'RMSE for K = 93 is 52182.337138495146',\n",
       " 'RMSE for K = 94 is 52157.94802415547',\n",
       " 'RMSE for K = 95 is 52199.013550914744',\n",
       " 'RMSE for K = 96 is 52147.12070065779',\n",
       " 'RMSE for K = 97 is 52178.1161729771',\n",
       " 'RMSE for K = 98 is 52175.072303109184',\n",
       " 'RMSE for K = 99 is 52140.37398161983',\n",
       " 'RMSE for K = 100 is 52167.25244060826']"
      ]
     },
     "execution_count": 12,
     "metadata": {},
     "output_type": "execute_result"
    }
   ],
   "source": [
    "all_error = [] \n",
    "str_error = []\n",
    "for K in range(100):\n",
    "    K += 1\n",
    "    model = neighbors.KNeighborsRegressor(n_neighbors=K)\n",
    "    \n",
    "    #fitting\n",
    "    model.fit(x_train,y_train)\n",
    "    \n",
    "    #prediction\n",
    "    prediction = model.predict(x_test)\n",
    "    \n",
    "    #count error and store it\n",
    "    error = sqrt(mean_squared_error(y_test,prediction))\n",
    "    \n",
    "    all_error.append(error)\n",
    "    str_ =\"RMSE for K = \" + str(K) + \" is \" + str(error) \n",
    "    str_error.append(str_)\n",
    "str_error"
   ]
  },
  {
   "cell_type": "markdown",
   "metadata": {},
   "source": [
    "## Plotting"
   ]
  },
  {
   "cell_type": "code",
   "execution_count": 13,
   "metadata": {},
   "outputs": [
    {
     "data": {
      "text/plain": [
       "<matplotlib.axes._subplots.AxesSubplot at 0x7fd7712115c0>"
      ]
     },
     "execution_count": 13,
     "metadata": {},
     "output_type": "execute_result"
    },
    {
     "data": {
      "image/png": "[encoded data removed]",
      "text/plain": [
       "<Figure size 432x288 with 1 Axes>"
      ]
     },
     "metadata": {
      "needs_background": "light"
     },
     "output_type": "display_data"
    }
   ],
   "source": [
    "plot_curve = pd.DataFrame(all_error)\n",
    "plot_curve.plot()\n"
   ]
  },
  {
   "cell_type": "code",
   "execution_count": 14,
   "metadata": {},
   "outputs": [
    {
     "name": "stdout",
     "output_type": "stream",
     "text": [
      "The smallest value RMSE is  50242.35070453461  in index  26\n"
     ]
    }
   ],
   "source": [
    "mini = all_error[0]\n",
    "index = 0\n",
    "for i in range(len(all_error)):\n",
    "     if all_error[i]<mini :\n",
    "            mini = all_error[i]\n",
    "            index = i+1\n",
    "\n",
    "print(\"The smallest value RMSE is \",mini,\" in index \",index)"
   ]
  },
  {
   "cell_type": "markdown",
   "metadata": {},
   "source": [
    "## Predict Test.csv"
   ]
  },
  {
   "cell_type": "markdown",
   "metadata": {},
   "source": [
    "### Load Data Test"
   ]
  },
  {
   "cell_type": "code",
   "execution_count": 15,
   "metadata": {},
   "outputs": [
    {
     "name": "stdout",
     "output_type": "stream",
     "text": [
      "      LotArea  GarageArea\n",
      "0       11622       730.0\n",
      "1       14267       312.0\n",
      "2       13830       482.0\n",
      "3        9978       470.0\n",
      "4        5005       506.0\n",
      "5       10000       440.0\n",
      "6        7980       420.0\n",
      "7        8402       393.0\n",
      "8       10176       506.0\n",
      "9        8400       525.0\n",
      "10       5858       511.0\n",
      "11       1680       264.0\n",
      "12       1680       320.0\n",
      "13       2280       440.0\n",
      "14       2280       308.0\n",
      "15      12858       751.0\n",
      "16      12883       868.0\n",
      "17      11520       730.0\n",
      "18      14122       678.0\n",
      "19      14300       958.0\n",
      "20      13650       756.0\n",
      "21       7132       484.0\n",
      "22      18494       430.0\n",
      "23       3203       437.0\n",
      "24      13300       400.0\n",
      "25       8577       433.0\n",
      "26      17433       962.0\n",
      "27       8987       880.0\n",
      "28       9215       676.0\n",
      "29      10440       528.0\n",
      "...       ...         ...\n",
      "1429     7030       272.0\n",
      "1430     9060       384.0\n",
      "1431    12366         0.0\n",
      "1432     9000         0.0\n",
      "1433     8520         0.0\n",
      "1434     5748       495.0\n",
      "1435     3842       525.0\n",
      "1436    23580       576.0\n",
      "1437     8385       616.0\n",
      "1438     9116       490.0\n",
      "1439    11080       528.0\n",
      "1440    50102       518.0\n",
      "1441     8098       470.0\n",
      "1442    13618       714.0\n",
      "1443    11577       682.0\n",
      "1444    31250       270.0\n",
      "1445     7020       784.0\n",
      "1446     2665       336.0\n",
      "1447    10172       288.0\n",
      "1448    11836       928.0\n",
      "1449     1470         0.0\n",
      "1450     1484       253.0\n",
      "1451    13384       336.0\n",
      "1452     1533       286.0\n",
      "1453     1526         0.0\n",
      "1454     1936         0.0\n",
      "1455     1894       286.0\n",
      "1456    20000       576.0\n",
      "1457    10441         0.0\n",
      "1458     9627       650.0\n",
      "\n",
      "[1458 rows x 2 columns]\n"
     ]
    }
   ],
   "source": [
    "df_test = pd.read_csv(\"/home/sh0brun/Documents/Untitled Folder/DataMining/test.csv\");\n",
    "df_test = df_test[['LotArea','GarageArea']]\n",
    "df_test = df_test.dropna()\n",
    "print(df_test)\n",
    "# Predict\n"
   ]
  },
  {
   "cell_type": "markdown",
   "metadata": {},
   "source": [
    "### Normalization"
   ]
  },
  {
   "cell_type": "code",
   "execution_count": 16,
   "metadata": {},
   "outputs": [
    {
     "name": "stdout",
     "output_type": "stream",
     "text": [
      "             0         1\n",
      "0     0.363702  1.185538\n",
      "1     0.897455 -0.740959\n",
      "2     0.809270  0.042545\n",
      "3     0.031948 -0.012761\n",
      "4    -0.971588  0.153157\n",
      "5     0.036388 -0.151027\n",
      "6    -0.371242 -0.243203\n",
      "7    -0.286084 -0.367642\n",
      "8     0.071904  0.153157\n",
      "9    -0.286487  0.240725\n",
      "10   -0.799455  0.176201\n",
      "11   -1.642563 -0.962183\n",
      "12   -1.642563 -0.704088\n",
      "13   -1.521484 -0.151027\n",
      "14   -1.521484 -0.759394\n",
      "15    0.613123  1.282324\n",
      "16    0.618168  1.821559\n",
      "17    0.343119  1.185538\n",
      "18    0.868195  0.945878\n",
      "19    0.904114  2.236354\n",
      "20    0.772946  1.305368\n",
      "21   -0.542366  0.051763\n",
      "22    1.750451 -0.197115\n",
      "23   -1.335226 -0.164853\n",
      "24    0.702317 -0.335380\n",
      "25   -0.250769 -0.183288\n",
      "26    1.536344  2.254790\n",
      "27   -0.168033  1.876865\n",
      "28   -0.122023  0.936661\n",
      "29    0.125178  0.254552\n",
      "...        ...       ...\n",
      "1428 -0.562949 -0.925312\n",
      "1429 -0.153301 -0.409122\n",
      "1430  0.513839 -2.178918\n",
      "1431 -0.165409 -2.178918\n",
      "1432 -0.262272 -2.178918\n",
      "1433 -0.821653  0.102460\n",
      "1434 -1.206278  0.240725\n",
      "1435  2.776790  0.475776\n",
      "1436 -0.289514  0.660130\n",
      "1437 -0.142001  0.079416\n",
      "1438  0.254328  0.254552\n",
      "1439  8.128847  0.208463\n",
      "1440 -0.347430 -0.012761\n",
      "1441  0.766489  1.111797\n",
      "1442  0.354621  0.964314\n",
      "1443  4.324572 -0.934530\n",
      "1444 -0.564967  1.434416\n",
      "1445 -1.443793 -0.630346\n",
      "1446  0.071097 -0.851571\n",
      "1447  0.406887  2.098089\n",
      "1448 -1.684940 -2.178918\n",
      "1449 -1.682115 -1.012880\n",
      "1450  0.719268 -0.630346\n",
      "1451 -1.672227 -0.860788\n",
      "1452 -1.673639 -2.178918\n",
      "1453 -1.590903 -2.178918\n",
      "1454 -1.599378 -0.860788\n",
      "1455  2.054357  0.475776\n",
      "1456  0.125380 -2.178918\n",
      "1457 -0.038883  0.816831\n",
      "\n",
      "[1458 rows x 2 columns]\n"
     ]
    }
   ],
   "source": [
    "test_scaled = scaler.fit_transform(df_test)\n",
    "# test_scaled\n",
    "test_scaled = pd.DataFrame(test_scaled)\n",
    "print(test_scaled)"
   ]
  },
  {
   "cell_type": "markdown",
   "metadata": {},
   "source": []
  },
  {
   "cell_type": "code",
   "execution_count": 17,
   "metadata": {},
   "outputs": [
    {
     "data": {
      "text/plain": [
       "array([314588.46153846, 173303.26923077, 218108.46153846, ...,\n",
       "       236101.5       , 116950.        , 218333.15384615])"
      ]
     },
     "execution_count": 17,
     "metadata": {},
     "output_type": "execute_result"
    }
   ],
   "source": [
    "K = index\n",
    "model = neighbors.KNeighborsRegressor(n_neighbors=K)\n",
    "model.fit(x_train,y_train)\n",
    "\n",
    "predict = model.predict(test_scaled)\n",
    "predict"
   ]
  },
  {
   "cell_type": "code",
   "execution_count": 18,
   "metadata": {},
   "outputs": [
    {
     "name": "stdout",
     "output_type": "stream",
     "text": [
      "      LotArea  GarageArea      SalePrice\n",
      "0       11622       730.0  314588.461538\n",
      "1       14267       312.0  173303.269231\n",
      "2       13830       482.0  218108.461538\n",
      "3        9978       470.0  183321.153846\n",
      "4        5005       506.0  164824.423077\n",
      "5       10000       440.0  173028.461538\n",
      "6        7980       420.0  148179.384615\n",
      "7        8402       393.0  145795.961538\n",
      "8       10176       506.0  190653.269231\n",
      "9        8400       525.0  160025.769231\n",
      "10       5858       511.0  177466.730769\n",
      "11       1680       264.0  121091.269231\n",
      "12       1680       320.0  128339.807692\n",
      "13       2280       440.0  157549.615385\n",
      "14       2280       308.0  127282.115385\n",
      "15      12858       751.0  325074.192308\n",
      "16      12883       868.0  351797.538462\n",
      "17      11520       730.0  315665.384615\n",
      "18      14122       678.0  280154.038462\n",
      "19      14300       958.0  369575.192308\n",
      "20      13650       756.0  344525.269231\n",
      "21       7132       484.0  185389.115385\n",
      "22      18494       430.0  193549.423077\n",
      "23       3203       437.0  157549.615385\n",
      "24      13300       400.0  196150.769231\n",
      "25       8577       433.0  165818.538462\n",
      "26      17433       962.0  388343.653846\n",
      "27       8987       880.0  261370.461538\n",
      "28       9215       676.0  195041.153846\n",
      "29      10440       528.0  172299.423077\n",
      "...       ...         ...            ...\n",
      "1428     8534         0.0  119784.000000\n",
      "1429     7030       272.0  149229.423077\n",
      "1430     9060       384.0  114776.923077\n",
      "1431    12366         0.0  109378.846154\n",
      "1432     9000         0.0  109705.769231\n",
      "1433     8520         0.0  167697.500000\n",
      "1434     5748       495.0  157401.346154\n",
      "1435     3842       525.0  238204.576923\n",
      "1436    23580       576.0  184094.653846\n",
      "1437     8385       616.0  171785.192308\n",
      "1438     9116       490.0  203172.500000\n",
      "1439    11080       528.0  251085.576923\n",
      "1440    50102       518.0  164662.115385\n",
      "1441     8098       470.0  304761.269231\n",
      "1442    13618       714.0  300315.961538\n",
      "1443    11577       682.0  238910.192308\n",
      "1444    31250       270.0  212243.500000\n",
      "1445     7020       784.0  128339.807692\n",
      "1446     2665       336.0  138544.230769\n",
      "1447    10172       288.0  320669.269231\n",
      "1448    11836       928.0   89446.153846\n",
      "1449     1470         0.0  119014.346154\n",
      "1450     1484       253.0  170471.538462\n",
      "1451    13384       336.0  124856.653846\n",
      "1452     1533       286.0   89446.153846\n",
      "1453     1526         0.0   89446.153846\n",
      "1454     1936         0.0  122725.884615\n",
      "1455     1894       286.0  236101.500000\n",
      "1456    20000       576.0  116950.000000\n",
      "1457    10441         0.0  218333.153846\n",
      "\n",
      "[1457 rows x 3 columns]\n"
     ]
    }
   ],
   "source": [
    "pd_predict = pd.DataFrame(predict)\n",
    "result = pd.merge(df_test,pd_predict,right_index = True, left_index = True)\n",
    "result.rename(columns = {0:\"SalePrice\"}, inplace = True)\n",
    "print(result)"
   ]
  },
  {
   "cell_type": "code",
   "execution_count": 19,
   "metadata": {},
   "outputs": [
    {
     "ename": "SyntaxError",
     "evalue": "invalid syntax (<ipython-input-19-47c30cf7607e>, line 1)",
     "output_type": "error",
     "traceback": [
      "\u001b[0;36m  File \u001b[0;32m\"<ipython-input-19-47c30cf7607e>\"\u001b[0;36m, line \u001b[0;32m1\u001b[0m\n\u001b[0;31m    result.\u001b[0m\n\u001b[0m           ^\u001b[0m\n\u001b[0;31mSyntaxError\u001b[0m\u001b[0;31m:\u001b[0m invalid syntax\n"
     ]
    }
   ],
   "source": [
    "result."
   ]
  },
  {
   "cell_type": "code",
   "execution_count": null,
   "metadata": {},
   "outputs": [],
   "source": []
  }
 ],
 "metadata": {
  "kernelspec": {
   "display_name": "Python 3",
   "language": "python",
   "name": "python3"
  },
  "language_info": {
   "codemirror_mode": {
    "name": "ipython",
    "version": 3
   },
   "file_extension": ".py",
   "mimetype": "text/x-python",
   "name": "python",
   "nbconvert_exporter": "python",
   "pygments_lexer": "ipython3",
   "version": "3.6.8"
  }
 },
 "nbformat": 4,
 "nbformat_minor": 2
}
