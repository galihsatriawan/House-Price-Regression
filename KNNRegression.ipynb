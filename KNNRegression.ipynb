{
 "cells": [
  {
   "cell_type": "code",
   "execution_count": 1,
   "metadata": {},
   "outputs": [],
   "source": [
    "#import Libraries\n",
    "import pandas as pd\n",
    "import matplotlib.pyplot as plt\n",
    "import numpy as np\n",
    "import pandas as pd"
   ]
  },
  {
   "cell_type": "code",
   "execution_count": 2,
   "metadata": {},
   "outputs": [
    {
     "name": "stdout",
     "output_type": "stream",
     "text": [
      "        Id  MSSubClass MSZoning  LotFrontage  LotArea Street Alley LotShape  \\\n",
      "0        1          60       RL         65.0     8450   Pave   NaN      Reg   \n",
      "1        2          20       RL         80.0     9600   Pave   NaN      Reg   \n",
      "2        3          60       RL         68.0    11250   Pave   NaN      IR1   \n",
      "3        4          70       RL         60.0     9550   Pave   NaN      IR1   \n",
      "4        5          60       RL         84.0    14260   Pave   NaN      IR1   \n",
      "5        6          50       RL         85.0    14115   Pave   NaN      IR1   \n",
      "6        7          20       RL         75.0    10084   Pave   NaN      Reg   \n",
      "7        8          60       RL          NaN    10382   Pave   NaN      IR1   \n",
      "8        9          50       RM         51.0     6120   Pave   NaN      Reg   \n",
      "9       10         190       RL         50.0     7420   Pave   NaN      Reg   \n",
      "10      11          20       RL         70.0    11200   Pave   NaN      Reg   \n",
      "11      12          60       RL         85.0    11924   Pave   NaN      IR1   \n",
      "12      13          20       RL          NaN    12968   Pave   NaN      IR2   \n",
      "13      14          20       RL         91.0    10652   Pave   NaN      IR1   \n",
      "14      15          20       RL          NaN    10920   Pave   NaN      IR1   \n",
      "15      16          45       RM         51.0     6120   Pave   NaN      Reg   \n",
      "16      17          20       RL          NaN    11241   Pave   NaN      IR1   \n",
      "17      18          90       RL         72.0    10791   Pave   NaN      Reg   \n",
      "18      19          20       RL         66.0    13695   Pave   NaN      Reg   \n",
      "19      20          20       RL         70.0     7560   Pave   NaN      Reg   \n",
      "20      21          60       RL        101.0    14215   Pave   NaN      IR1   \n",
      "21      22          45       RM         57.0     7449   Pave  Grvl      Reg   \n",
      "22      23          20       RL         75.0     9742   Pave   NaN      Reg   \n",
      "23      24         120       RM         44.0     4224   Pave   NaN      Reg   \n",
      "24      25          20       RL          NaN     8246   Pave   NaN      IR1   \n",
      "25      26          20       RL        110.0    14230   Pave   NaN      Reg   \n",
      "26      27          20       RL         60.0     7200   Pave   NaN      Reg   \n",
      "27      28          20       RL         98.0    11478   Pave   NaN      Reg   \n",
      "28      29          20       RL         47.0    16321   Pave   NaN      IR1   \n",
      "29      30          30       RM         60.0     6324   Pave   NaN      IR1   \n",
      "...    ...         ...      ...          ...      ...    ...   ...      ...   \n",
      "1430  1431          60       RL         60.0    21930   Pave   NaN      IR3   \n",
      "1431  1432         120       RL          NaN     4928   Pave   NaN      IR1   \n",
      "1432  1433          30       RL         60.0    10800   Pave  Grvl      Reg   \n",
      "1433  1434          60       RL         93.0    10261   Pave   NaN      IR1   \n",
      "1434  1435          20       RL         80.0    17400   Pave   NaN      Reg   \n",
      "1435  1436          20       RL         80.0     8400   Pave   NaN      Reg   \n",
      "1436  1437          20       RL         60.0     9000   Pave   NaN      Reg   \n",
      "1437  1438          20       RL         96.0    12444   Pave   NaN      Reg   \n",
      "1438  1439          20       RM         90.0     7407   Pave   NaN      Reg   \n",
      "1439  1440          60       RL         80.0    11584   Pave   NaN      Reg   \n",
      "1440  1441          70       RL         79.0    11526   Pave   NaN      IR1   \n",
      "1441  1442         120       RM          NaN     4426   Pave   NaN      Reg   \n",
      "1442  1443          60       FV         85.0    11003   Pave   NaN      Reg   \n",
      "1443  1444          30       RL          NaN     8854   Pave   NaN      Reg   \n",
      "1444  1445          20       RL         63.0     8500   Pave   NaN      Reg   \n",
      "1445  1446          85       RL         70.0     8400   Pave   NaN      Reg   \n",
      "1446  1447          20       RL          NaN    26142   Pave   NaN      IR1   \n",
      "1447  1448          60       RL         80.0    10000   Pave   NaN      Reg   \n",
      "1448  1449          50       RL         70.0    11767   Pave   NaN      Reg   \n",
      "1449  1450         180       RM         21.0     1533   Pave   NaN      Reg   \n",
      "1450  1451          90       RL         60.0     9000   Pave   NaN      Reg   \n",
      "1451  1452          20       RL         78.0     9262   Pave   NaN      Reg   \n",
      "1452  1453         180       RM         35.0     3675   Pave   NaN      Reg   \n",
      "1453  1454          20       RL         90.0    17217   Pave   NaN      Reg   \n",
      "1454  1455          20       FV         62.0     7500   Pave  Pave      Reg   \n",
      "1455  1456          60       RL         62.0     7917   Pave   NaN      Reg   \n",
      "1456  1457          20       RL         85.0    13175   Pave   NaN      Reg   \n",
      "1457  1458          70       RL         66.0     9042   Pave   NaN      Reg   \n",
      "1458  1459          20       RL         68.0     9717   Pave   NaN      Reg   \n",
      "1459  1460          20       RL         75.0     9937   Pave   NaN      Reg   \n",
      "\n",
      "     LandContour Utilities  ... PoolArea PoolQC  Fence MiscFeature MiscVal  \\\n",
      "0            Lvl    AllPub  ...        0    NaN    NaN         NaN       0   \n",
      "1            Lvl    AllPub  ...        0    NaN    NaN         NaN       0   \n",
      "2            Lvl    AllPub  ...        0    NaN    NaN         NaN       0   \n",
      "3            Lvl    AllPub  ...        0    NaN    NaN         NaN       0   \n",
      "4            Lvl    AllPub  ...        0    NaN    NaN         NaN       0   \n",
      "5            Lvl    AllPub  ...        0    NaN  MnPrv        Shed     700   \n",
      "6            Lvl    AllPub  ...        0    NaN    NaN         NaN       0   \n",
      "7            Lvl    AllPub  ...        0    NaN    NaN        Shed     350   \n",
      "8            Lvl    AllPub  ...        0    NaN    NaN         NaN       0   \n",
      "9            Lvl    AllPub  ...        0    NaN    NaN         NaN       0   \n",
      "10           Lvl    AllPub  ...        0    NaN    NaN         NaN       0   \n",
      "11           Lvl    AllPub  ...        0    NaN    NaN         NaN       0   \n",
      "12           Lvl    AllPub  ...        0    NaN    NaN         NaN       0   \n",
      "13           Lvl    AllPub  ...        0    NaN    NaN         NaN       0   \n",
      "14           Lvl    AllPub  ...        0    NaN   GdWo         NaN       0   \n",
      "15           Lvl    AllPub  ...        0    NaN  GdPrv         NaN       0   \n",
      "16           Lvl    AllPub  ...        0    NaN    NaN        Shed     700   \n",
      "17           Lvl    AllPub  ...        0    NaN    NaN        Shed     500   \n",
      "18           Lvl    AllPub  ...        0    NaN    NaN         NaN       0   \n",
      "19           Lvl    AllPub  ...        0    NaN  MnPrv         NaN       0   \n",
      "20           Lvl    AllPub  ...        0    NaN    NaN         NaN       0   \n",
      "21           Bnk    AllPub  ...        0    NaN  GdPrv         NaN       0   \n",
      "22           Lvl    AllPub  ...        0    NaN    NaN         NaN       0   \n",
      "23           Lvl    AllPub  ...        0    NaN    NaN         NaN       0   \n",
      "24           Lvl    AllPub  ...        0    NaN  MnPrv         NaN       0   \n",
      "25           Lvl    AllPub  ...        0    NaN    NaN         NaN       0   \n",
      "26           Lvl    AllPub  ...        0    NaN    NaN         NaN       0   \n",
      "27           Lvl    AllPub  ...        0    NaN    NaN         NaN       0   \n",
      "28           Lvl    AllPub  ...        0    NaN    NaN         NaN       0   \n",
      "29           Lvl    AllPub  ...        0    NaN    NaN         NaN       0   \n",
      "...          ...       ...  ...      ...    ...    ...         ...     ...   \n",
      "1430         Lvl    AllPub  ...        0    NaN    NaN         NaN       0   \n",
      "1431         Lvl    AllPub  ...        0    NaN    NaN         NaN       0   \n",
      "1432         Lvl    AllPub  ...        0    NaN    NaN         NaN       0   \n",
      "1433         Lvl    AllPub  ...        0    NaN    NaN         NaN       0   \n",
      "1434         Low    AllPub  ...        0    NaN    NaN         NaN       0   \n",
      "1435         Lvl    AllPub  ...        0    NaN  GdPrv         NaN       0   \n",
      "1436         Lvl    AllPub  ...        0    NaN   GdWo         NaN       0   \n",
      "1437         Lvl    AllPub  ...        0    NaN    NaN         NaN       0   \n",
      "1438         Lvl    AllPub  ...        0    NaN  MnPrv         NaN       0   \n",
      "1439         Lvl    AllPub  ...        0    NaN    NaN         NaN       0   \n",
      "1440         Bnk    AllPub  ...        0    NaN    NaN         NaN       0   \n",
      "1441         Lvl    AllPub  ...        0    NaN    NaN         NaN       0   \n",
      "1442         Lvl    AllPub  ...        0    NaN    NaN         NaN       0   \n",
      "1443         Lvl    AllPub  ...        0    NaN    NaN         NaN       0   \n",
      "1444         Lvl    AllPub  ...        0    NaN    NaN         NaN       0   \n",
      "1445         Lvl    AllPub  ...        0    NaN    NaN         NaN       0   \n",
      "1446         Lvl    AllPub  ...        0    NaN    NaN         NaN       0   \n",
      "1447         Lvl    AllPub  ...        0    NaN    NaN         NaN       0   \n",
      "1448         Lvl    AllPub  ...        0    NaN   GdWo         NaN       0   \n",
      "1449         Lvl    AllPub  ...        0    NaN    NaN         NaN       0   \n",
      "1450         Lvl    AllPub  ...        0    NaN    NaN         NaN       0   \n",
      "1451         Lvl    AllPub  ...        0    NaN    NaN         NaN       0   \n",
      "1452         Lvl    AllPub  ...        0    NaN    NaN         NaN       0   \n",
      "1453         Lvl    AllPub  ...        0    NaN    NaN         NaN       0   \n",
      "1454         Lvl    AllPub  ...        0    NaN    NaN         NaN       0   \n",
      "1455         Lvl    AllPub  ...        0    NaN    NaN         NaN       0   \n",
      "1456         Lvl    AllPub  ...        0    NaN  MnPrv         NaN       0   \n",
      "1457         Lvl    AllPub  ...        0    NaN  GdPrv        Shed    2500   \n",
      "1458         Lvl    AllPub  ...        0    NaN    NaN         NaN       0   \n",
      "1459         Lvl    AllPub  ...        0    NaN    NaN         NaN       0   \n",
      "\n",
      "     MoSold YrSold  SaleType  SaleCondition  SalePrice  \n",
      "0         2   2008        WD         Normal     208500  \n",
      "1         5   2007        WD         Normal     181500  \n",
      "2         9   2008        WD         Normal     223500  \n",
      "3         2   2006        WD        Abnorml     140000  \n",
      "4        12   2008        WD         Normal     250000  \n",
      "5        10   2009        WD         Normal     143000  \n",
      "6         8   2007        WD         Normal     307000  \n",
      "7        11   2009        WD         Normal     200000  \n",
      "8         4   2008        WD        Abnorml     129900  \n",
      "9         1   2008        WD         Normal     118000  \n",
      "10        2   2008        WD         Normal     129500  \n",
      "11        7   2006       New        Partial     345000  \n",
      "12        9   2008        WD         Normal     144000  \n",
      "13        8   2007       New        Partial     279500  \n",
      "14        5   2008        WD         Normal     157000  \n",
      "15        7   2007        WD         Normal     132000  \n",
      "16        3   2010        WD         Normal     149000  \n",
      "17       10   2006        WD         Normal      90000  \n",
      "18        6   2008        WD         Normal     159000  \n",
      "19        5   2009       COD        Abnorml     139000  \n",
      "20       11   2006       New        Partial     325300  \n",
      "21        6   2007        WD         Normal     139400  \n",
      "22        9   2008        WD         Normal     230000  \n",
      "23        6   2007        WD         Normal     129900  \n",
      "24        5   2010        WD         Normal     154000  \n",
      "25        7   2009        WD         Normal     256300  \n",
      "26        5   2010        WD         Normal     134800  \n",
      "27        5   2010        WD         Normal     306000  \n",
      "28       12   2006        WD         Normal     207500  \n",
      "29        5   2008        WD         Normal      68500  \n",
      "...     ...    ...       ...            ...        ...  \n",
      "1430      7   2006        WD         Normal     192140  \n",
      "1431     10   2009        WD         Normal     143750  \n",
      "1432      8   2007        WD         Normal      64500  \n",
      "1433      5   2008        WD         Normal     186500  \n",
      "1434      5   2006        WD         Normal     160000  \n",
      "1435      7   2008       COD        Abnorml     174000  \n",
      "1436      5   2007        WD         Normal     120500  \n",
      "1437     11   2008       New        Partial     394617  \n",
      "1438      4   2010        WD         Normal     149700  \n",
      "1439     11   2007        WD         Normal     197000  \n",
      "1440      9   2008        WD         Normal     191000  \n",
      "1441      5   2008        WD         Normal     149300  \n",
      "1442      4   2009        WD         Normal     310000  \n",
      "1443      5   2009        WD         Normal     121000  \n",
      "1444     11   2007        WD         Normal     179600  \n",
      "1445      5   2007        WD         Normal     129000  \n",
      "1446      4   2010        WD         Normal     157900  \n",
      "1447     12   2007        WD         Normal     240000  \n",
      "1448      5   2007        WD         Normal     112000  \n",
      "1449      8   2006        WD        Abnorml      92000  \n",
      "1450      9   2009        WD         Normal     136000  \n",
      "1451      5   2009       New        Partial     287090  \n",
      "1452      5   2006        WD         Normal     145000  \n",
      "1453      7   2006        WD        Abnorml      84500  \n",
      "1454     10   2009        WD         Normal     185000  \n",
      "1455      8   2007        WD         Normal     175000  \n",
      "1456      2   2010        WD         Normal     210000  \n",
      "1457      5   2010        WD         Normal     266500  \n",
      "1458      4   2010        WD         Normal     142125  \n",
      "1459      6   2008        WD         Normal     147500  \n",
      "\n",
      "[1460 rows x 81 columns]\n"
     ]
    }
   ],
   "source": [
    "# Load Data\n",
    "df_train = pd.read_csv('/home/sh0brun/Documents/Untitled Folder/train.csv')\n",
    "print(df_train)"
   ]
  },
  {
   "cell_type": "code",
   "execution_count": 3,
   "metadata": {},
   "outputs": [
    {
     "name": "stdout",
     "output_type": "stream",
     "text": [
      "   LotArea  GarageArea  SalePrice\n",
      "0     8450         548     208500\n",
      "1     9600         460     181500\n",
      "2    11250         608     223500\n",
      "3     9550         642     140000\n",
      "4    14260         836     250000\n"
     ]
    }
   ],
   "source": [
    "#Take sample feature\n",
    "sample_df_train = df_train[['LotArea','GarageArea','SalePrice']]\n",
    "print(sample_df_train.head())"
   ]
  },
  {
   "cell_type": "code",
   "execution_count": 4,
   "metadata": {},
   "outputs": [],
   "source": [
    "#Clean Data\n",
    "sample_df_train = sample_df_train.dropna()"
   ]
  },
  {
   "cell_type": "markdown",
   "metadata": {},
   "source": []
  },
  {
   "cell_type": "code",
   "execution_count": 5,
   "metadata": {},
   "outputs": [],
   "source": [
    "y_sample = sample_df_train['SalePrice']\n",
    "sample_df_train = sample_df_train.drop('SalePrice',axis = 1)\n",
    "# test = pd.merge(sample_df_train,y_sample,right_index = True,left_index = True)\n",
    "# test"
   ]
  },
  {
   "cell_type": "markdown",
   "metadata": {},
   "source": [
    "# Normalization\n",
    "### Formula Transformation\n",
    "X_std = (X - X.min(axis=0)) / (X.max(axis=0) - X.min(axis=0))\n",
    "<br> X_scaled = X_std * (max - min) + min\n",
    "<br> nb: max and min given by feature_range"
   ]
  },
  {
   "cell_type": "code",
   "execution_count": 6,
   "metadata": {},
   "outputs": [],
   "source": [
    "from sklearn.preprocessing import MinMaxScaler\n",
    "scaler = MinMaxScaler(feature_range=(0,1),copy=True)\n",
    "x_scaled = scaler.fit_transform(sample_df_train)\n",
    "\n",
    "x_sample = pd.DataFrame(x_scaled)\n",
    "sampled = pd.merge(x_sample,y_sample,right_index = True, left_index = True)"
   ]
  },
  {
   "cell_type": "markdown",
   "metadata": {},
   "source": [
    "# Create Train and Test Set from train.csv"
   ]
  },
  {
   "cell_type": "code",
   "execution_count": 7,
   "metadata": {},
   "outputs": [],
   "source": [
    "from sklearn.model_selection import train_test_split\n",
    "train, test = train_test_split(sampled,test_size = 0.3)\n",
    "# print(train)\n",
    "# print(test)\n",
    "x_train = train.drop('SalePrice',axis = 1)\n",
    "y_train = train['SalePrice']\n",
    "\n",
    "x_test = test.drop('SalePrice', axis = 1)\n",
    "y_test = test['SalePrice']"
   ]
  },
  {
   "cell_type": "markdown",
   "metadata": {},
   "source": [
    "# Predict"
   ]
  },
  {
   "cell_type": "code",
   "execution_count": 8,
   "metadata": {},
   "outputs": [],
   "source": [
    "#Import support library\n",
    "from sklearn import neighbors\n",
    "from sklearn.metrics import mean_squared_error \n",
    "from math import sqrt\n"
   ]
  },
  {
   "cell_type": "code",
   "execution_count": 9,
   "metadata": {},
   "outputs": [
    {
     "data": {
      "text/plain": [
       "array([290000.        , 200833.33333333, 209300.        , 217966.66666667,\n",
       "       139800.        , 150166.66666667, 119633.33333333, 155000.        ,\n",
       "        85833.33333333, 171333.33333333, 177666.66666667, 153801.66666667,\n",
       "       171500.        , 210000.        , 224433.33333333, 133166.66666667,\n",
       "       199633.33333333, 180566.66666667, 240133.33333333, 210666.66666667,\n",
       "       124166.66666667, 294666.66666667, 387567.33333333, 140986.33333333,\n",
       "       131333.33333333, 169833.33333333, 157000.        , 217083.33333333,\n",
       "       100336.        , 260166.66666667, 348054.66666667, 188816.66666667,\n",
       "       142000.        , 226200.        , 121117.        , 186266.66666667,\n",
       "        93366.66666667, 263333.33333333, 132997.66666667, 175833.33333333,\n",
       "       146666.66666667, 116350.        , 140916.66666667, 121800.        ,\n",
       "       171333.33333333, 150166.66666667, 268300.        , 219300.        ,\n",
       "       126000.        , 192333.33333333, 190800.        , 341466.66666667,\n",
       "       281966.66666667, 267771.        , 264000.        , 287186.66666667,\n",
       "       218426.66666667, 209778.33333333, 141986.33333333,  89833.33333333,\n",
       "       209300.        , 239700.        , 176666.66666667, 276666.66666667,\n",
       "       336666.66666667, 370881.        , 120166.66666667, 133000.        ,\n",
       "       281616.33333333, 155000.        , 165700.        , 174500.        ,\n",
       "        97366.66666667, 180666.66666667, 169666.66666667, 261709.33333333,\n",
       "       142166.66666667, 157000.        , 131466.66666667, 227056.66666667,\n",
       "       109500.        , 135000.        , 291333.33333333, 152500.        ,\n",
       "        81333.33333333, 180416.66666667, 102416.66666667, 198316.66666667,\n",
       "       318666.66666667, 166300.        , 167666.66666667, 182100.        ,\n",
       "       147517.33333333, 157000.        , 151833.33333333, 151166.66666667,\n",
       "       149633.33333333, 117966.66666667, 127621.33333333, 185333.33333333,\n",
       "       126500.        , 152000.        ,  99000.        , 106833.33333333,\n",
       "       166300.        ,  98166.66666667,  81333.33333333, 348054.66666667,\n",
       "        82666.66666667, 116660.        , 149330.        , 145466.66666667,\n",
       "       287186.66666667,  90266.66666667, 252666.66666667, 219833.33333333,\n",
       "       175963.33333333, 266333.33333333, 186366.66666667, 155013.33333333,\n",
       "        94461.        , 160000.        , 139300.        , 125400.        ,\n",
       "       351612.33333333, 193000.        , 178000.        , 127166.66666667,\n",
       "       226166.66666667, 208633.33333333, 259000.        , 186666.66666667,\n",
       "       226200.        , 165616.66666667, 113483.33333333, 177333.33333333,\n",
       "       166333.33333333, 193333.33333333, 127997.66666667, 322833.33333333,\n",
       "       215000.        , 204333.33333333, 103500.        , 146191.66666667,\n",
       "       189283.33333333, 159500.        , 155634.        , 114664.33333333,\n",
       "       160300.        , 175000.        , 190666.66666667, 150166.66666667,\n",
       "       204000.        , 132500.        , 322833.33333333, 128333.33333333,\n",
       "        79366.66666667, 113000.        , 132500.        , 321722.66666667,\n",
       "       105333.33333333, 197833.33333333, 106833.33333333, 127500.        ,\n",
       "       155300.        , 321666.66666667, 320000.        , 172633.33333333,\n",
       "       133333.33333333,  98166.66666667, 102566.66666667, 240500.        ,\n",
       "       145466.66666667, 148833.33333333, 203000.        , 183333.33333333,\n",
       "       146000.        , 201166.66666667, 270316.66666667, 128333.33333333,\n",
       "       188430.        , 145466.66666667, 167500.        ,  99666.66666667,\n",
       "       187000.        , 162366.66666667, 209166.66666667, 165000.        ,\n",
       "       269224.        , 158966.66666667, 176583.33333333, 278899.66666667,\n",
       "       150333.33333333, 155000.        , 179633.33333333, 261709.33333333,\n",
       "       107997.66666667, 322833.33333333, 323083.33333333, 165583.33333333,\n",
       "       153000.        , 111166.66666667, 182466.66666667, 299000.        ,\n",
       "       126933.33333333, 177333.33333333, 141333.33333333, 203687.        ,\n",
       "       323666.66666667, 174083.33333333, 225233.33333333, 105333.33333333,\n",
       "       282133.33333333, 189566.66666667, 150166.66666667, 141166.66666667,\n",
       "       200445.        , 132966.66666667, 189283.33333333, 133333.33333333,\n",
       "       189000.        , 196633.33333333, 176913.33333333, 180100.        ,\n",
       "       135000.        ,  62000.        , 155300.        , 395833.33333333,\n",
       "       110750.        , 120666.66666667, 180100.        , 124333.33333333,\n",
       "       155833.33333333, 239700.        , 315103.33333333, 103127.66666667,\n",
       "       146295.66666667, 318083.33333333, 107500.        , 238166.66666667,\n",
       "       156500.        , 113157.        , 408945.66666667, 147500.        ,\n",
       "       117966.66666667, 274633.33333333, 128333.33333333,  83000.        ,\n",
       "       252816.66666667, 356827.        , 113483.33333333, 270316.66666667,\n",
       "       175933.33333333, 131333.33333333, 195916.66666667, 126333.33333333,\n",
       "        91166.66666667, 192466.66666667, 293172.33333333, 110333.33333333,\n",
       "       181333.33333333, 214900.        , 128333.33333333, 148333.33333333,\n",
       "       127600.        , 152500.        , 209208.        , 154566.66666667,\n",
       "       145466.66666667, 127997.66666667, 290333.33333333, 120583.33333333,\n",
       "       260166.66666667, 160333.33333333, 384227.66666667, 248166.66666667,\n",
       "       101333.33333333, 243144.        ,  99666.66666667, 153000.        ,\n",
       "       138000.        ,  80333.33333333, 225000.        , 157000.        ,\n",
       "       183300.        , 159316.66666667, 124950.        , 223833.33333333,\n",
       "       141333.33333333, 152266.66666667, 172666.66666667, 127997.66666667,\n",
       "       268000.        , 130333.33333333, 132500.        ,  87500.        ,\n",
       "       115500.        , 210860.        , 124333.33333333, 180624.        ,\n",
       "       270042.66666667, 220404.33333333, 175360.        , 128333.33333333,\n",
       "       156484.33333333, 148833.33333333, 154566.66666667,  94666.66666667,\n",
       "       391977.66666667, 177266.66666667, 101166.66666667, 218593.33333333,\n",
       "       158300.        , 127666.66666667, 126000.        , 203000.        ,\n",
       "       164666.66666667, 100466.66666667, 132500.        , 142233.33333333,\n",
       "       166166.66666667, 187666.66666667, 119633.33333333, 182333.33333333,\n",
       "       171666.66666667, 171333.33333333, 142233.33333333, 332467.33333333,\n",
       "       151301.66666667, 126500.        , 164666.66666667, 180416.66666667,\n",
       "       135466.66666667,  89166.66666667, 140333.33333333, 122833.33333333,\n",
       "       133500.        , 184778.33333333, 127621.33333333, 133166.66666667,\n",
       "       148833.33333333, 116350.        , 209300.        , 119500.        ,\n",
       "       204000.        , 141483.33333333, 126500.        , 203687.        ,\n",
       "       168666.66666667, 133166.66666667, 199360.        , 168500.        ,\n",
       "       266333.33333333, 150500.        , 205666.66666667, 315333.33333333,\n",
       "       193666.66666667, 209778.33333333, 173333.33333333, 187666.66666667,\n",
       "       167800.        , 152166.66666667,  97833.33333333, 132997.66666667,\n",
       "       249316.33333333,  91166.66666667, 187096.66666667, 169333.33333333,\n",
       "       150600.        ,  98166.66666667, 239471.        , 153833.33333333,\n",
       "       218593.33333333, 124816.66666667, 129833.33333333, 300500.        ,\n",
       "       144000.        , 175360.        , 189300.        , 114333.33333333,\n",
       "       168666.66666667, 184833.33333333, 160300.        , 119733.33333333,\n",
       "       140583.33333333, 153833.33333333, 165000.        , 176913.33333333,\n",
       "       230041.33333333, 178000.        , 178000.        , 142666.66666667,\n",
       "       124166.66666667, 215800.        , 277850.        , 198316.66666667,\n",
       "       214740.66666667, 127500.        , 179595.        , 227333.33333333,\n",
       "       251833.33333333, 121800.        , 182000.        , 213877.33333333,\n",
       "       121800.        , 212666.66666667, 176583.33333333, 255562.        ,\n",
       "       150166.66666667, 209500.        , 119833.33333333, 267771.        ,\n",
       "       111166.66666667,  99000.        , 166666.66666667,  81333.33333333,\n",
       "        91166.66666667, 207500.        , 144666.66666667, 145466.66666667,\n",
       "       177333.33333333, 253500.        , 398250.        , 142566.66666667,\n",
       "       243420.33333333, 157166.66666667, 127833.33333333, 166666.66666667,\n",
       "       196000.        , 216333.33333333, 140500.        , 183166.66666667,\n",
       "       174666.66666667, 127833.33333333, 300633.33333333, 222166.66666667,\n",
       "       121333.33333333, 115500.        ])"
      ]
     },
     "execution_count": 9,
     "metadata": {},
     "output_type": "execute_result"
    }
   ],
   "source": [
    "K = 3\n",
    "# Make the model\n",
    "model = neighbors.KNeighborsRegressor(n_neighbors=K)\n",
    "\n",
    "# Fitting \n",
    "model.fit(x_train,y_train)\n",
    "\n",
    "# Prediction\n",
    "prediction = model.predict(x_test)\n",
    "prediction"
   ]
  },
  {
   "cell_type": "markdown",
   "metadata": {},
   "source": [
    "# Check Error"
   ]
  },
  {
   "cell_type": "code",
   "execution_count": 10,
   "metadata": {},
   "outputs": [
    {
     "data": {
      "text/plain": [
       "66018.21801816151"
      ]
     },
     "execution_count": 10,
     "metadata": {},
     "output_type": "execute_result"
    }
   ],
   "source": [
    "error = sqrt(mean_squared_error(y_test,prediction))\n",
    "error"
   ]
  },
  {
   "cell_type": "markdown",
   "metadata": {},
   "source": [
    "## Check Error with some "
   ]
  },
  {
   "cell_type": "code",
   "execution_count": 11,
   "metadata": {},
   "outputs": [
    {
     "data": {
      "text/plain": [
       "['RMSE for K = 1 is 74930.77031523328',\n",
       " 'RMSE for K = 2 is 68111.8919885653',\n",
       " 'RMSE for K = 3 is 66018.21801816151',\n",
       " 'RMSE for K = 4 is 65934.31027686843',\n",
       " 'RMSE for K = 5 is 64359.42368980502',\n",
       " 'RMSE for K = 6 is 63352.32426183219',\n",
       " 'RMSE for K = 7 is 63489.77209570096',\n",
       " 'RMSE for K = 8 is 63342.30977954381',\n",
       " 'RMSE for K = 9 is 62677.40220358166',\n",
       " 'RMSE for K = 10 is 62563.32117427495',\n",
       " 'RMSE for K = 11 is 62420.59275299544',\n",
       " 'RMSE for K = 12 is 62369.27520114901',\n",
       " 'RMSE for K = 13 is 62187.93006117028',\n",
       " 'RMSE for K = 14 is 62262.36192915733',\n",
       " 'RMSE for K = 15 is 62341.37553719593',\n",
       " 'RMSE for K = 16 is 62122.88040968583',\n",
       " 'RMSE for K = 17 is 61960.753824522006',\n",
       " 'RMSE for K = 18 is 61849.80485829058',\n",
       " 'RMSE for K = 19 is 61889.47579986151',\n",
       " 'RMSE for K = 20 is 61697.05804906519',\n",
       " 'RMSE for K = 21 is 62047.08105020095',\n",
       " 'RMSE for K = 22 is 62041.52050372218',\n",
       " 'RMSE for K = 23 is 62158.646461215554',\n",
       " 'RMSE for K = 24 is 62255.8131218357',\n",
       " 'RMSE for K = 25 is 62264.01486737083',\n",
       " 'RMSE for K = 26 is 62500.27250938665',\n",
       " 'RMSE for K = 27 is 62699.86519206651',\n",
       " 'RMSE for K = 28 is 62708.819966597395',\n",
       " 'RMSE for K = 29 is 62779.69690962762',\n",
       " 'RMSE for K = 30 is 63043.98861454589',\n",
       " 'RMSE for K = 31 is 63021.25526301933',\n",
       " 'RMSE for K = 32 is 63208.135160428326',\n",
       " 'RMSE for K = 33 is 63345.86673814414',\n",
       " 'RMSE for K = 34 is 63532.528349546425',\n",
       " 'RMSE for K = 35 is 63385.77461511263',\n",
       " 'RMSE for K = 36 is 63449.8273078717',\n",
       " 'RMSE for K = 37 is 63560.70045481531',\n",
       " 'RMSE for K = 38 is 63530.65123957971',\n",
       " 'RMSE for K = 39 is 63597.508209194355',\n",
       " 'RMSE for K = 40 is 63673.611656592744',\n",
       " 'RMSE for K = 41 is 63783.08385800936',\n",
       " 'RMSE for K = 42 is 63798.99291607046',\n",
       " 'RMSE for K = 43 is 63836.75072437038',\n",
       " 'RMSE for K = 44 is 63859.06992328318',\n",
       " 'RMSE for K = 45 is 63861.33174730282',\n",
       " 'RMSE for K = 46 is 63985.15455574527',\n",
       " 'RMSE for K = 47 is 64063.05137891234',\n",
       " 'RMSE for K = 48 is 64100.14590074816',\n",
       " 'RMSE for K = 49 is 64164.60721390691',\n",
       " 'RMSE for K = 50 is 64208.78254648376',\n",
       " 'RMSE for K = 51 is 64214.0239150445',\n",
       " 'RMSE for K = 52 is 64271.981082791724',\n",
       " 'RMSE for K = 53 is 64319.61784814208',\n",
       " 'RMSE for K = 54 is 64367.83649051372',\n",
       " 'RMSE for K = 55 is 64608.85300030755',\n",
       " 'RMSE for K = 56 is 64747.9573311858',\n",
       " 'RMSE for K = 57 is 64864.29972274106',\n",
       " 'RMSE for K = 58 is 64997.033651294594',\n",
       " 'RMSE for K = 59 is 65097.55882683957',\n",
       " 'RMSE for K = 60 is 65070.91476854275',\n",
       " 'RMSE for K = 61 is 65108.154391655466',\n",
       " 'RMSE for K = 62 is 65132.35892869969',\n",
       " 'RMSE for K = 63 is 65162.155339455145',\n",
       " 'RMSE for K = 64 is 65172.02551928062',\n",
       " 'RMSE for K = 65 is 65184.200264837884',\n",
       " 'RMSE for K = 66 is 65205.08512871409',\n",
       " 'RMSE for K = 67 is 65311.19245854251',\n",
       " 'RMSE for K = 68 is 65415.19548822314',\n",
       " 'RMSE for K = 69 is 65518.66177421022',\n",
       " 'RMSE for K = 70 is 65572.84268822991',\n",
       " 'RMSE for K = 71 is 65621.01122147635',\n",
       " 'RMSE for K = 72 is 65575.5132379538',\n",
       " 'RMSE for K = 73 is 65672.49996779523',\n",
       " 'RMSE for K = 74 is 65752.53151397477',\n",
       " 'RMSE for K = 75 is 65777.33820512847',\n",
       " 'RMSE for K = 76 is 65854.10521073597',\n",
       " 'RMSE for K = 77 is 65865.26426177922',\n",
       " 'RMSE for K = 78 is 65830.76367938849',\n",
       " 'RMSE for K = 79 is 65904.99298136085',\n",
       " 'RMSE for K = 80 is 66004.27973030122',\n",
       " 'RMSE for K = 81 is 66016.21316710622',\n",
       " 'RMSE for K = 82 is 66083.54893811581',\n",
       " 'RMSE for K = 83 is 66105.88033343042',\n",
       " 'RMSE for K = 84 is 66169.63899749174',\n",
       " 'RMSE for K = 85 is 66191.98910386558',\n",
       " 'RMSE for K = 86 is 66240.0746209539',\n",
       " 'RMSE for K = 87 is 66238.74397066399',\n",
       " 'RMSE for K = 88 is 66329.71289044268',\n",
       " 'RMSE for K = 89 is 66331.91133600294',\n",
       " 'RMSE for K = 90 is 66370.38945942503',\n",
       " 'RMSE for K = 91 is 66404.35901951703',\n",
       " 'RMSE for K = 92 is 66380.2311178836',\n",
       " 'RMSE for K = 93 is 66402.63425626405',\n",
       " 'RMSE for K = 94 is 66429.1358675513',\n",
       " 'RMSE for K = 95 is 66476.49098597716',\n",
       " 'RMSE for K = 96 is 66527.20775651625',\n",
       " 'RMSE for K = 97 is 66578.85565876588',\n",
       " 'RMSE for K = 98 is 66600.17069202896',\n",
       " 'RMSE for K = 99 is 66615.10306932208',\n",
       " 'RMSE for K = 100 is 66592.95966605522']"
      ]
     },
     "execution_count": 11,
     "metadata": {},
     "output_type": "execute_result"
    }
   ],
   "source": [
    "all_error = [] \n",
    "str_error = []\n",
    "for K in range(100):\n",
    "    K += 1\n",
    "    model = neighbors.KNeighborsRegressor(n_neighbors=K)\n",
    "    \n",
    "    #fitting\n",
    "    model.fit(x_train,y_train)\n",
    "    \n",
    "    #prediction\n",
    "    prediction = model.predict(x_test)\n",
    "    \n",
    "    #count error and store it\n",
    "    error = sqrt(mean_squared_error(y_test,prediction))\n",
    "    \n",
    "    all_error.append(error)\n",
    "    str_ =\"RMSE for K = \" + str(K) + \" is \" + str(error) \n",
    "    str_error.append(str_)\n",
    "str_error"
   ]
  },
  {
   "cell_type": "markdown",
   "metadata": {},
   "source": [
    "## Plotting"
   ]
  },
  {
   "cell_type": "code",
   "execution_count": 12,
   "metadata": {},
   "outputs": [
    {
     "data": {
      "text/plain": [
       "<matplotlib.axes._subplots.AxesSubplot at 0x7f81d4f68358>"
      ]
     },
     "execution_count": 12,
     "metadata": {},
     "output_type": "execute_result"
    },
    {
     "data": {
      "image/png": "[encoded data removed]",
      "text/plain": [
       "<Figure size 432x288 with 1 Axes>"
      ]
     },
     "metadata": {
      "needs_background": "light"
     },
     "output_type": "display_data"
    }
   ],
   "source": [
    "plot_curve = pd.DataFrame(all_error)\n",
    "plot_curve.plot()\n"
   ]
  },
  {
   "cell_type": "code",
   "execution_count": 13,
   "metadata": {},
   "outputs": [
    {
     "name": "stdout",
     "output_type": "stream",
     "text": [
      "The smallest value RMSE is  61697.05804906519  in index  20\n"
     ]
    }
   ],
   "source": [
    "mini = all_error[0]\n",
    "index = 0\n",
    "for i in range(len(all_error)):\n",
    "     if all_error[i]<mini :\n",
    "            mini = all_error[i]\n",
    "            index = i+1\n",
    "\n",
    "print(\"The smallest value RMSE is \",mini,\" in index \",index)"
   ]
  },
  {
   "cell_type": "code",
   "execution_count": null,
   "metadata": {},
   "outputs": [],
   "source": []
  }
 ],
 "metadata": {
  "kernelspec": {
   "display_name": "Python 3",
   "language": "python",
   "name": "python3"
  },
  "language_info": {
   "codemirror_mode": {
    "name": "ipython",
    "version": 3
   },
   "file_extension": ".py",
   "mimetype": "text/x-python",
   "name": "python",
   "nbconvert_exporter": "python",
   "pygments_lexer": "ipython3",
   "version": "3.6.8"
  }
 },
 "nbformat": 4,
 "nbformat_minor": 2
}
